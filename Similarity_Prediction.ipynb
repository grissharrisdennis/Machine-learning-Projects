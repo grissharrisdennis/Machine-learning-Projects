{
  "nbformat": 4,
  "nbformat_minor": 0,
  "metadata": {
    "colab": {
      "provenance": [],
      "authorship_tag": "ABX9TyPk1FrPFdBVHEx4EBV3cxlC",
      "include_colab_link": true
    },
    "kernelspec": {
      "name": "python3",
      "display_name": "Python 3"
    },
    "language_info": {
      "name": "python"
    }
  },
  "cells": [
    {
      "cell_type": "markdown",
      "metadata": {
        "id": "view-in-github",
        "colab_type": "text"
      },
      "source": [
        "<a href=\"https://colab.research.google.com/github/grissharrisdennis/Machine-learning-Projects/blob/main/Similarity_Prediction.ipynb\" target=\"_parent\"><img src=\"https://colab.research.google.com/assets/colab-badge.svg\" alt=\"Open In Colab\"/></a>"
      ]
    },
    {
      "cell_type": "markdown",
      "source": [
        "# Similarity Prediction\n",
        "\n",
        "Molecular similarity assessments using machine learning.\n",
        "Useful for the prediction of molecular similarity evaluations by humans.\n",
        "\n",
        "Molecular similarity is an impressively broad topic with many implications in several areas of chemistry. Its roots lie in the paradigm that ‘similar molecules have similar properties’. For this reason, methods for determining molecular similarity find wide application in pharmaceutical companies, e.g., in the context of structure-activity relationships. The similarity evaluation is also used in the field of chemical legislation, specifically in the procedure to judge if a new molecule can obtain the status of orphan drug with the consequent financial benefits. For this procedure, the European Medicines Agency uses experts’ judgments. It is clear that the perception of the similarity depends on the observer, so the development of models to reproduce the human perception is useful.\n",
        "\n",
        "The dataset was created by Enrico Gandini during his PhD at Università degli Studi di Milano.\n",
        "\n",
        "[Link to the dataset](https://archive.ics.uci.edu/dataset/750/similarity+prediction-1)[click here]\n",
        "\n",
        "# Acknowledgements\n",
        "Gandini, Enrico, Gilles Marcou, Fanny Bonachera, Alexandre Varnek, Stefano Pieraccini, and Maurizio Sironi. 2022.\n",
        " \"Molecular Similarity Perception Based on Machine-Learning Models\" International Journal of Molecular Sciences 23, no. 11: 6114. https://doi.org/10.3390/ijms23116114\n",
        "\n"
      ],
      "metadata": {
        "id": "K69JGML9l723"
      }
    },
    {
      "cell_type": "code",
      "source": [
        "!pip install cairosvg"
      ],
      "metadata": {
        "colab": {
          "base_uri": "https://localhost:8080/"
        },
        "id": "Uv8fus9iirWC",
        "outputId": "c4aeb24f-bc55-4505-aa2b-d9743f63e0c2"
      },
      "execution_count": 2,
      "outputs": [
        {
          "output_type": "stream",
          "name": "stdout",
          "text": [
            "Collecting cairosvg\n",
            "  Downloading CairoSVG-2.7.1-py3-none-any.whl (43 kB)\n",
            "\u001b[2K     \u001b[90m━━━━━━━━━━━━━━━━━━━━━━━━━━━━━━━━━━━━━━━━\u001b[0m \u001b[32m43.2/43.2 kB\u001b[0m \u001b[31m626.3 kB/s\u001b[0m eta \u001b[36m0:00:00\u001b[0m\n",
            "\u001b[?25hCollecting cairocffi (from cairosvg)\n",
            "  Downloading cairocffi-1.6.1-py3-none-any.whl (75 kB)\n",
            "\u001b[2K     \u001b[90m━━━━━━━━━━━━━━━━━━━━━━━━━━━━━━━━━━━━━━━━\u001b[0m \u001b[32m75.1/75.1 kB\u001b[0m \u001b[31m1.5 MB/s\u001b[0m eta \u001b[36m0:00:00\u001b[0m\n",
            "\u001b[?25hCollecting cssselect2 (from cairosvg)\n",
            "  Downloading cssselect2-0.7.0-py3-none-any.whl (15 kB)\n",
            "Requirement already satisfied: defusedxml in /usr/local/lib/python3.10/dist-packages (from cairosvg) (0.7.1)\n",
            "Requirement already satisfied: pillow in /usr/local/lib/python3.10/dist-packages (from cairosvg) (9.4.0)\n",
            "Requirement already satisfied: tinycss2 in /usr/local/lib/python3.10/dist-packages (from cairosvg) (1.2.1)\n",
            "Requirement already satisfied: cffi>=1.1.0 in /usr/local/lib/python3.10/dist-packages (from cairocffi->cairosvg) (1.16.0)\n",
            "Requirement already satisfied: webencodings in /usr/local/lib/python3.10/dist-packages (from cssselect2->cairosvg) (0.5.1)\n",
            "Requirement already satisfied: pycparser in /usr/local/lib/python3.10/dist-packages (from cffi>=1.1.0->cairocffi->cairosvg) (2.21)\n",
            "Installing collected packages: cssselect2, cairocffi, cairosvg\n",
            "Successfully installed cairocffi-1.6.1 cairosvg-2.7.1 cssselect2-0.7.0\n"
          ]
        }
      ]
    },
    {
      "cell_type": "code",
      "execution_count": 3,
      "metadata": {
        "id": "fl4baghra1va"
      },
      "outputs": [],
      "source": [
        "import pandas as pd\n",
        "import cairosvg\n",
        "from PIL import Image\n",
        "import numpy as np\n",
        "import os\n"
      ]
    },
    {
      "cell_type": "code",
      "source": [
        "from google.colab import drive\n",
        "drive.mount('/content/drive/')"
      ],
      "metadata": {
        "id": "cmpp1xfGy4X8",
        "colab": {
          "base_uri": "https://localhost:8080/"
        },
        "outputId": "a5a59e9c-b606-48d2-c403-c8e1ff0769a7"
      },
      "execution_count": 4,
      "outputs": [
        {
          "output_type": "stream",
          "name": "stdout",
          "text": [
            "Mounted at /content/drive/\n"
          ]
        }
      ]
    },
    {
      "cell_type": "code",
      "source": [
        "train_data_images_path='/content/drive/My Drive/dataset_Similarity_Prediction/original_training_set/images_2D'\n",
        "train_data_images=os.listdir('/content/drive/My Drive/dataset_Similarity_Prediction/original_training_set/images_2D')\n",
        "train_data_conformers=os.listdir('/content/drive/My Drive/dataset_Similarity_Prediction/original_training_set/conformers_3D')\n",
        "train_data=pd.read_csv('/content/drive/My Drive/dataset_Similarity_Prediction/original_training_set/original_training_set.csv')"
      ],
      "metadata": {
        "id": "fpipWuny66UE"
      },
      "execution_count": 5,
      "outputs": []
    },
    {
      "cell_type": "code",
      "source": [
        "ids = train_data['id_pair']\n",
        "smiles_a = train_data['curated_smiles_molecule_a']\n",
        "smiles_b = train_data['curated_smiles_molecule_b']\n",
        "tanimoto_coefficients = train_data['tanimoto_cdk_Extended']\n",
        "tanimoto_combo = train_data['TanimotoCombo']\n",
        "frac_similar = train_data['frac_similar']\n"
      ],
      "metadata": {
        "id": "OqshN7GjjfOW"
      },
      "execution_count": 6,
      "outputs": []
    },
    {
      "cell_type": "code",
      "source": [
        "def extract_images_from_svg(svg_file):\n",
        "    png_file = svg_file.replace('.svg', '.png')  # Adjust extension for the output PNG file\n",
        "\n",
        "    # Convert SVG to PNG using CairoSVG\n",
        "    cairosvg.svg2png(url=svg_file, write_to=png_file)\n",
        "\n",
        "    return png_file"
      ],
      "metadata": {
        "id": "jw-GLOAfRzZX"
      },
      "execution_count": 7,
      "outputs": []
    },
    {
      "cell_type": "code",
      "source": [
        "svg_files = [os.path.join(train_data_images_path, file) for file in train_data_images if file.endswith('.svg')]\n",
        "# Extract and load images from HTML files into a numpy array for training\n",
        "#training_images = []\n",
        "a_images=[]\n",
        "b_images=[]\n",
        "for svg_file in svg_files:\n",
        "    png_img_path = extract_images_from_svg(svg_file)\n",
        "    #training_images.append(png_img_path)\n",
        "    if png_img_path[104:105]=='a':\n",
        "      a_images.append(png_img_path)\n",
        "    elif png_img_path[104:105]=='b':\n",
        "      b_images.append(png_img_path)\n",
        "images_data = [[] for _ in range(101)]  # Initialize a list of lists for each number (0-100)\n",
        "\n",
        "for img_path in a_images + b_images:\n",
        "    molecule_num = int(img_path.split('_')[-1][:3])  # Extract the molecule number\n",
        "    images_data[molecule_num].append(img_path)"
      ],
      "metadata": {
        "id": "tIlU7ma6ULn0",
        "colab": {
          "base_uri": "https://localhost:8080/"
        },
        "outputId": "7ebc5ad6-0ad1-40d2-d727-3fe89c0b8a90"
      },
      "execution_count": 13,
      "outputs": [
        {
          "output_type": "stream",
          "name": "stdout",
          "text": [
            "['/content/drive/My Drive/dataset_Similarity_Prediction/original_training_set/images_2D/image_molecule_015b.svg', '/content/drive/My Drive/dataset_Similarity_Prediction/original_training_set/images_2D/image_molecule_008a.svg', '/content/drive/My Drive/dataset_Similarity_Prediction/original_training_set/images_2D/image_molecule_010a.svg', '/content/drive/My Drive/dataset_Similarity_Prediction/original_training_set/images_2D/image_molecule_006a.svg', '/content/drive/My Drive/dataset_Similarity_Prediction/original_training_set/images_2D/image_molecule_014a.svg', '/content/drive/My Drive/dataset_Similarity_Prediction/original_training_set/images_2D/image_molecule_003a.svg', '/content/drive/My Drive/dataset_Similarity_Prediction/original_training_set/images_2D/image_molecule_011b.svg', '/content/drive/My Drive/dataset_Similarity_Prediction/original_training_set/images_2D/image_molecule_006b.svg', '/content/drive/My Drive/dataset_Similarity_Prediction/original_training_set/images_2D/image_molecule_004b.svg', '/content/drive/My Drive/dataset_Similarity_Prediction/original_training_set/images_2D/image_molecule_008b.svg', '/content/drive/My Drive/dataset_Similarity_Prediction/original_training_set/images_2D/image_molecule_005b.svg', '/content/drive/My Drive/dataset_Similarity_Prediction/original_training_set/images_2D/image_molecule_013b.svg', '/content/drive/My Drive/dataset_Similarity_Prediction/original_training_set/images_2D/image_molecule_002a.svg', '/content/drive/My Drive/dataset_Similarity_Prediction/original_training_set/images_2D/image_molecule_011a.svg', '/content/drive/My Drive/dataset_Similarity_Prediction/original_training_set/images_2D/image_molecule_010b.svg', '/content/drive/My Drive/dataset_Similarity_Prediction/original_training_set/images_2D/image_molecule_009a.svg', '/content/drive/My Drive/dataset_Similarity_Prediction/original_training_set/images_2D/image_molecule_015a.svg', '/content/drive/My Drive/dataset_Similarity_Prediction/original_training_set/images_2D/image_molecule_014b.svg', '/content/drive/My Drive/dataset_Similarity_Prediction/original_training_set/images_2D/image_molecule_007a.svg', '/content/drive/My Drive/dataset_Similarity_Prediction/original_training_set/images_2D/image_molecule_009b.svg', '/content/drive/My Drive/dataset_Similarity_Prediction/original_training_set/images_2D/image_molecule_001b.svg', '/content/drive/My Drive/dataset_Similarity_Prediction/original_training_set/images_2D/image_molecule_001a.svg', '/content/drive/My Drive/dataset_Similarity_Prediction/original_training_set/images_2D/image_molecule_002b.svg', '/content/drive/My Drive/dataset_Similarity_Prediction/original_training_set/images_2D/image_molecule_003b.svg', '/content/drive/My Drive/dataset_Similarity_Prediction/original_training_set/images_2D/image_molecule_012b.svg', '/content/drive/My Drive/dataset_Similarity_Prediction/original_training_set/images_2D/image_molecule_007b.svg', '/content/drive/My Drive/dataset_Similarity_Prediction/original_training_set/images_2D/image_molecule_012a.svg', '/content/drive/My Drive/dataset_Similarity_Prediction/original_training_set/images_2D/image_molecule_013a.svg', '/content/drive/My Drive/dataset_Similarity_Prediction/original_training_set/images_2D/image_molecule_004a.svg', '/content/drive/My Drive/dataset_Similarity_Prediction/original_training_set/images_2D/image_molecule_005a.svg', '/content/drive/My Drive/dataset_Similarity_Prediction/original_training_set/images_2D/image_molecule_031a.svg', '/content/drive/My Drive/dataset_Similarity_Prediction/original_training_set/images_2D/image_molecule_039b.svg', '/content/drive/My Drive/dataset_Similarity_Prediction/original_training_set/images_2D/image_molecule_021a.svg', '/content/drive/My Drive/dataset_Similarity_Prediction/original_training_set/images_2D/image_molecule_016b.svg', '/content/drive/My Drive/dataset_Similarity_Prediction/original_training_set/images_2D/image_molecule_019a.svg', '/content/drive/My Drive/dataset_Similarity_Prediction/original_training_set/images_2D/image_molecule_025a.svg', '/content/drive/My Drive/dataset_Similarity_Prediction/original_training_set/images_2D/image_molecule_039a.svg', '/content/drive/My Drive/dataset_Similarity_Prediction/original_training_set/images_2D/image_molecule_028b.svg', '/content/drive/My Drive/dataset_Similarity_Prediction/original_training_set/images_2D/image_molecule_024b.svg', '/content/drive/My Drive/dataset_Similarity_Prediction/original_training_set/images_2D/image_molecule_037a.svg', '/content/drive/My Drive/dataset_Similarity_Prediction/original_training_set/images_2D/image_molecule_023a.svg', '/content/drive/My Drive/dataset_Similarity_Prediction/original_training_set/images_2D/image_molecule_038a.svg', '/content/drive/My Drive/dataset_Similarity_Prediction/original_training_set/images_2D/image_molecule_036b.svg', '/content/drive/My Drive/dataset_Similarity_Prediction/original_training_set/images_2D/image_molecule_038b.svg', '/content/drive/My Drive/dataset_Similarity_Prediction/original_training_set/images_2D/image_molecule_017b.svg', '/content/drive/My Drive/dataset_Similarity_Prediction/original_training_set/images_2D/image_molecule_035a.svg', '/content/drive/My Drive/dataset_Similarity_Prediction/original_training_set/images_2D/image_molecule_027b.svg', '/content/drive/My Drive/dataset_Similarity_Prediction/original_training_set/images_2D/image_molecule_022b.svg', '/content/drive/My Drive/dataset_Similarity_Prediction/original_training_set/images_2D/image_molecule_026b.svg', '/content/drive/My Drive/dataset_Similarity_Prediction/original_training_set/images_2D/image_molecule_022a.svg', '/content/drive/My Drive/dataset_Similarity_Prediction/original_training_set/images_2D/image_molecule_036a.svg', '/content/drive/My Drive/dataset_Similarity_Prediction/original_training_set/images_2D/image_molecule_026a.svg', '/content/drive/My Drive/dataset_Similarity_Prediction/original_training_set/images_2D/image_molecule_023b.svg', '/content/drive/My Drive/dataset_Similarity_Prediction/original_training_set/images_2D/image_molecule_021b.svg', '/content/drive/My Drive/dataset_Similarity_Prediction/original_training_set/images_2D/image_molecule_033b.svg', '/content/drive/My Drive/dataset_Similarity_Prediction/original_training_set/images_2D/image_molecule_032b.svg', '/content/drive/My Drive/dataset_Similarity_Prediction/original_training_set/images_2D/image_molecule_040b.svg', '/content/drive/My Drive/dataset_Similarity_Prediction/original_training_set/images_2D/image_molecule_020b.svg', '/content/drive/My Drive/dataset_Similarity_Prediction/original_training_set/images_2D/image_molecule_016a.svg', '/content/drive/My Drive/dataset_Similarity_Prediction/original_training_set/images_2D/image_molecule_024a.svg', '/content/drive/My Drive/dataset_Similarity_Prediction/original_training_set/images_2D/image_molecule_030a.svg', '/content/drive/My Drive/dataset_Similarity_Prediction/original_training_set/images_2D/image_molecule_020a.svg', '/content/drive/My Drive/dataset_Similarity_Prediction/original_training_set/images_2D/image_molecule_034b.svg', '/content/drive/My Drive/dataset_Similarity_Prediction/original_training_set/images_2D/image_molecule_035b.svg', '/content/drive/My Drive/dataset_Similarity_Prediction/original_training_set/images_2D/image_molecule_030b.svg', '/content/drive/My Drive/dataset_Similarity_Prediction/original_training_set/images_2D/image_molecule_040a.svg', '/content/drive/My Drive/dataset_Similarity_Prediction/original_training_set/images_2D/image_molecule_029b.svg', '/content/drive/My Drive/dataset_Similarity_Prediction/original_training_set/images_2D/image_molecule_032a.svg', '/content/drive/My Drive/dataset_Similarity_Prediction/original_training_set/images_2D/image_molecule_025b.svg', '/content/drive/My Drive/dataset_Similarity_Prediction/original_training_set/images_2D/image_molecule_018b.svg', '/content/drive/My Drive/dataset_Similarity_Prediction/original_training_set/images_2D/image_molecule_027a.svg', '/content/drive/My Drive/dataset_Similarity_Prediction/original_training_set/images_2D/image_molecule_033a.svg', '/content/drive/My Drive/dataset_Similarity_Prediction/original_training_set/images_2D/image_molecule_029a.svg', '/content/drive/My Drive/dataset_Similarity_Prediction/original_training_set/images_2D/image_molecule_028a.svg', '/content/drive/My Drive/dataset_Similarity_Prediction/original_training_set/images_2D/image_molecule_031b.svg', '/content/drive/My Drive/dataset_Similarity_Prediction/original_training_set/images_2D/image_molecule_017a.svg', '/content/drive/My Drive/dataset_Similarity_Prediction/original_training_set/images_2D/image_molecule_019b.svg', '/content/drive/My Drive/dataset_Similarity_Prediction/original_training_set/images_2D/image_molecule_034a.svg', '/content/drive/My Drive/dataset_Similarity_Prediction/original_training_set/images_2D/image_molecule_018a.svg', '/content/drive/My Drive/dataset_Similarity_Prediction/original_training_set/images_2D/image_molecule_037b.svg', '/content/drive/My Drive/dataset_Similarity_Prediction/original_training_set/images_2D/image_molecule_043b.svg', '/content/drive/My Drive/dataset_Similarity_Prediction/original_training_set/images_2D/image_molecule_041a.svg', '/content/drive/My Drive/dataset_Similarity_Prediction/original_training_set/images_2D/image_molecule_050a.svg', '/content/drive/My Drive/dataset_Similarity_Prediction/original_training_set/images_2D/image_molecule_044b.svg', '/content/drive/My Drive/dataset_Similarity_Prediction/original_training_set/images_2D/image_molecule_056a.svg', '/content/drive/My Drive/dataset_Similarity_Prediction/original_training_set/images_2D/image_molecule_047a.svg', '/content/drive/My Drive/dataset_Similarity_Prediction/original_training_set/images_2D/image_molecule_053b.svg', '/content/drive/My Drive/dataset_Similarity_Prediction/original_training_set/images_2D/image_molecule_049b.svg', '/content/drive/My Drive/dataset_Similarity_Prediction/original_training_set/images_2D/image_molecule_052a.svg', '/content/drive/My Drive/dataset_Similarity_Prediction/original_training_set/images_2D/image_molecule_054b.svg', '/content/drive/My Drive/dataset_Similarity_Prediction/original_training_set/images_2D/image_molecule_047b.svg', '/content/drive/My Drive/dataset_Similarity_Prediction/original_training_set/images_2D/image_molecule_051a.svg', '/content/drive/My Drive/dataset_Similarity_Prediction/original_training_set/images_2D/image_molecule_055a.svg', '/content/drive/My Drive/dataset_Similarity_Prediction/original_training_set/images_2D/image_molecule_043a.svg', '/content/drive/My Drive/dataset_Similarity_Prediction/original_training_set/images_2D/image_molecule_048b.svg', '/content/drive/My Drive/dataset_Similarity_Prediction/original_training_set/images_2D/image_molecule_052b.svg', '/content/drive/My Drive/dataset_Similarity_Prediction/original_training_set/images_2D/image_molecule_048a.svg', '/content/drive/My Drive/dataset_Similarity_Prediction/original_training_set/images_2D/image_molecule_045b.svg', '/content/drive/My Drive/dataset_Similarity_Prediction/original_training_set/images_2D/image_molecule_053a.svg', '/content/drive/My Drive/dataset_Similarity_Prediction/original_training_set/images_2D/image_molecule_049a.svg', '/content/drive/My Drive/dataset_Similarity_Prediction/original_training_set/images_2D/image_molecule_051b.svg', '/content/drive/My Drive/dataset_Similarity_Prediction/original_training_set/images_2D/image_molecule_055b.svg', '/content/drive/My Drive/dataset_Similarity_Prediction/original_training_set/images_2D/image_molecule_046a.svg', '/content/drive/My Drive/dataset_Similarity_Prediction/original_training_set/images_2D/image_molecule_042b.svg', '/content/drive/My Drive/dataset_Similarity_Prediction/original_training_set/images_2D/image_molecule_045a.svg', '/content/drive/My Drive/dataset_Similarity_Prediction/original_training_set/images_2D/image_molecule_054a.svg', '/content/drive/My Drive/dataset_Similarity_Prediction/original_training_set/images_2D/image_molecule_041b.svg', '/content/drive/My Drive/dataset_Similarity_Prediction/original_training_set/images_2D/image_molecule_046b.svg', '/content/drive/My Drive/dataset_Similarity_Prediction/original_training_set/images_2D/image_molecule_042a.svg', '/content/drive/My Drive/dataset_Similarity_Prediction/original_training_set/images_2D/image_molecule_044a.svg', '/content/drive/My Drive/dataset_Similarity_Prediction/original_training_set/images_2D/image_molecule_050b.svg', '/content/drive/My Drive/dataset_Similarity_Prediction/original_training_set/images_2D/image_molecule_058b.svg', '/content/drive/My Drive/dataset_Similarity_Prediction/original_training_set/images_2D/image_molecule_061b.svg', '/content/drive/My Drive/dataset_Similarity_Prediction/original_training_set/images_2D/image_molecule_060b.svg', '/content/drive/My Drive/dataset_Similarity_Prediction/original_training_set/images_2D/image_molecule_056b.svg', '/content/drive/My Drive/dataset_Similarity_Prediction/original_training_set/images_2D/image_molecule_057b.svg', '/content/drive/My Drive/dataset_Similarity_Prediction/original_training_set/images_2D/image_molecule_061a.svg', '/content/drive/My Drive/dataset_Similarity_Prediction/original_training_set/images_2D/image_molecule_063a.svg', '/content/drive/My Drive/dataset_Similarity_Prediction/original_training_set/images_2D/image_molecule_062b.svg', '/content/drive/My Drive/dataset_Similarity_Prediction/original_training_set/images_2D/image_molecule_059a.svg', '/content/drive/My Drive/dataset_Similarity_Prediction/original_training_set/images_2D/image_molecule_058a.svg', '/content/drive/My Drive/dataset_Similarity_Prediction/original_training_set/images_2D/image_molecule_059b.svg', '/content/drive/My Drive/dataset_Similarity_Prediction/original_training_set/images_2D/image_molecule_057a.svg', '/content/drive/My Drive/dataset_Similarity_Prediction/original_training_set/images_2D/image_molecule_063b.svg', '/content/drive/My Drive/dataset_Similarity_Prediction/original_training_set/images_2D/image_molecule_062a.svg', '/content/drive/My Drive/dataset_Similarity_Prediction/original_training_set/images_2D/image_molecule_060a.svg', '/content/drive/My Drive/dataset_Similarity_Prediction/original_training_set/images_2D/image_molecule_075b.svg', '/content/drive/My Drive/dataset_Similarity_Prediction/original_training_set/images_2D/image_molecule_078a.svg', '/content/drive/My Drive/dataset_Similarity_Prediction/original_training_set/images_2D/image_molecule_066b.svg', '/content/drive/My Drive/dataset_Similarity_Prediction/original_training_set/images_2D/image_molecule_067a.svg', '/content/drive/My Drive/dataset_Similarity_Prediction/original_training_set/images_2D/image_molecule_083b.svg', '/content/drive/My Drive/dataset_Similarity_Prediction/original_training_set/images_2D/image_molecule_068b.svg', '/content/drive/My Drive/dataset_Similarity_Prediction/original_training_set/images_2D/image_molecule_069b.svg', '/content/drive/My Drive/dataset_Similarity_Prediction/original_training_set/images_2D/image_molecule_064a.svg', '/content/drive/My Drive/dataset_Similarity_Prediction/original_training_set/images_2D/image_molecule_076a.svg', '/content/drive/My Drive/dataset_Similarity_Prediction/original_training_set/images_2D/image_molecule_068a.svg', '/content/drive/My Drive/dataset_Similarity_Prediction/original_training_set/images_2D/image_molecule_079a.svg', '/content/drive/My Drive/dataset_Similarity_Prediction/original_training_set/images_2D/image_molecule_084a.svg', '/content/drive/My Drive/dataset_Similarity_Prediction/original_training_set/images_2D/image_molecule_070a.svg', '/content/drive/My Drive/dataset_Similarity_Prediction/original_training_set/images_2D/image_molecule_072b.svg', '/content/drive/My Drive/dataset_Similarity_Prediction/original_training_set/images_2D/image_molecule_070b.svg', '/content/drive/My Drive/dataset_Similarity_Prediction/original_training_set/images_2D/image_molecule_071b.svg', '/content/drive/My Drive/dataset_Similarity_Prediction/original_training_set/images_2D/image_molecule_071a.svg', '/content/drive/My Drive/dataset_Similarity_Prediction/original_training_set/images_2D/image_molecule_065a.svg', '/content/drive/My Drive/dataset_Similarity_Prediction/original_training_set/images_2D/image_molecule_069a.svg', '/content/drive/My Drive/dataset_Similarity_Prediction/original_training_set/images_2D/image_molecule_079b.svg', '/content/drive/My Drive/dataset_Similarity_Prediction/original_training_set/images_2D/image_molecule_081a.svg', '/content/drive/My Drive/dataset_Similarity_Prediction/original_training_set/images_2D/image_molecule_065b.svg', '/content/drive/My Drive/dataset_Similarity_Prediction/original_training_set/images_2D/image_molecule_064b.svg', '/content/drive/My Drive/dataset_Similarity_Prediction/original_training_set/images_2D/image_molecule_082a.svg', '/content/drive/My Drive/dataset_Similarity_Prediction/original_training_set/images_2D/image_molecule_077a.svg', '/content/drive/My Drive/dataset_Similarity_Prediction/original_training_set/images_2D/image_molecule_080a.svg', '/content/drive/My Drive/dataset_Similarity_Prediction/original_training_set/images_2D/image_molecule_067b.svg', '/content/drive/My Drive/dataset_Similarity_Prediction/original_training_set/images_2D/image_molecule_072a.svg', '/content/drive/My Drive/dataset_Similarity_Prediction/original_training_set/images_2D/image_molecule_081b.svg', '/content/drive/My Drive/dataset_Similarity_Prediction/original_training_set/images_2D/image_molecule_074b.svg', '/content/drive/My Drive/dataset_Similarity_Prediction/original_training_set/images_2D/image_molecule_074a.svg', '/content/drive/My Drive/dataset_Similarity_Prediction/original_training_set/images_2D/image_molecule_076b.svg', '/content/drive/My Drive/dataset_Similarity_Prediction/original_training_set/images_2D/image_molecule_077b.svg', '/content/drive/My Drive/dataset_Similarity_Prediction/original_training_set/images_2D/image_molecule_073b.svg', '/content/drive/My Drive/dataset_Similarity_Prediction/original_training_set/images_2D/image_molecule_083a.svg', '/content/drive/My Drive/dataset_Similarity_Prediction/original_training_set/images_2D/image_molecule_082b.svg', '/content/drive/My Drive/dataset_Similarity_Prediction/original_training_set/images_2D/image_molecule_080b.svg', '/content/drive/My Drive/dataset_Similarity_Prediction/original_training_set/images_2D/image_molecule_066a.svg', '/content/drive/My Drive/dataset_Similarity_Prediction/original_training_set/images_2D/image_molecule_075a.svg', '/content/drive/My Drive/dataset_Similarity_Prediction/original_training_set/images_2D/image_molecule_078b.svg', '/content/drive/My Drive/dataset_Similarity_Prediction/original_training_set/images_2D/image_molecule_073a.svg', '/content/drive/My Drive/dataset_Similarity_Prediction/original_training_set/images_2D/image_molecule_086a.svg', '/content/drive/My Drive/dataset_Similarity_Prediction/original_training_set/images_2D/image_molecule_097b.svg', '/content/drive/My Drive/dataset_Similarity_Prediction/original_training_set/images_2D/image_molecule_096a.svg', '/content/drive/My Drive/dataset_Similarity_Prediction/original_training_set/images_2D/image_molecule_090a.svg', '/content/drive/My Drive/dataset_Similarity_Prediction/original_training_set/images_2D/image_molecule_086b.svg', '/content/drive/My Drive/dataset_Similarity_Prediction/original_training_set/images_2D/image_molecule_092b.svg', '/content/drive/My Drive/dataset_Similarity_Prediction/original_training_set/images_2D/image_molecule_097a.svg', '/content/drive/My Drive/dataset_Similarity_Prediction/original_training_set/images_2D/image_molecule_094b.svg', '/content/drive/My Drive/dataset_Similarity_Prediction/original_training_set/images_2D/image_molecule_093b.svg', '/content/drive/My Drive/dataset_Similarity_Prediction/original_training_set/images_2D/image_molecule_091b.svg', '/content/drive/My Drive/dataset_Similarity_Prediction/original_training_set/images_2D/image_molecule_091a.svg', '/content/drive/My Drive/dataset_Similarity_Prediction/original_training_set/images_2D/image_molecule_085a.svg', '/content/drive/My Drive/dataset_Similarity_Prediction/original_training_set/images_2D/image_molecule_093a.svg', '/content/drive/My Drive/dataset_Similarity_Prediction/original_training_set/images_2D/image_molecule_087b.svg', '/content/drive/My Drive/dataset_Similarity_Prediction/original_training_set/images_2D/image_molecule_092a.svg', '/content/drive/My Drive/dataset_Similarity_Prediction/original_training_set/images_2D/image_molecule_088b.svg', '/content/drive/My Drive/dataset_Similarity_Prediction/original_training_set/images_2D/image_molecule_090b.svg', '/content/drive/My Drive/dataset_Similarity_Prediction/original_training_set/images_2D/image_molecule_098b.svg', '/content/drive/My Drive/dataset_Similarity_Prediction/original_training_set/images_2D/image_molecule_089a.svg', '/content/drive/My Drive/dataset_Similarity_Prediction/original_training_set/images_2D/image_molecule_087a.svg', '/content/drive/My Drive/dataset_Similarity_Prediction/original_training_set/images_2D/image_molecule_095a.svg', '/content/drive/My Drive/dataset_Similarity_Prediction/original_training_set/images_2D/image_molecule_084b.svg', '/content/drive/My Drive/dataset_Similarity_Prediction/original_training_set/images_2D/image_molecule_089b.svg', '/content/drive/My Drive/dataset_Similarity_Prediction/original_training_set/images_2D/image_molecule_096b.svg', '/content/drive/My Drive/dataset_Similarity_Prediction/original_training_set/images_2D/image_molecule_095b.svg', '/content/drive/My Drive/dataset_Similarity_Prediction/original_training_set/images_2D/image_molecule_099a.svg', '/content/drive/My Drive/dataset_Similarity_Prediction/original_training_set/images_2D/image_molecule_085b.svg', '/content/drive/My Drive/dataset_Similarity_Prediction/original_training_set/images_2D/image_molecule_088a.svg', '/content/drive/My Drive/dataset_Similarity_Prediction/original_training_set/images_2D/image_molecule_098a.svg', '/content/drive/My Drive/dataset_Similarity_Prediction/original_training_set/images_2D/image_molecule_099b.svg', '/content/drive/My Drive/dataset_Similarity_Prediction/original_training_set/images_2D/image_molecule_094a.svg', '/content/drive/My Drive/dataset_Similarity_Prediction/original_training_set/images_2D/image_molecule_100a.svg', '/content/drive/My Drive/dataset_Similarity_Prediction/original_training_set/images_2D/image_molecule_100b.svg']\n"
          ]
        }
      ]
    }
  ]
}
{
  "nbformat": 4,
  "nbformat_minor": 0,
  "metadata": {
    "colab": {
      "provenance": [],
      "authorship_tag": "ABX9TyN+e4vN07sOV+TJNGgIKI2R",
      "include_colab_link": true
    },
    "kernelspec": {
      "name": "python3",
      "display_name": "Python 3"
    },
    "language_info": {
      "name": "python"
    }
  },
  "cells": [
    {
      "cell_type": "markdown",
      "metadata": {
        "id": "view-in-github",
        "colab_type": "text"
      },
      "source": [
        "<a href=\"https://colab.research.google.com/github/grissharrisdennis/Machine-learning-Projects/blob/main/Similarity_Prediction.ipynb\" target=\"_parent\"><img src=\"https://colab.research.google.com/assets/colab-badge.svg\" alt=\"Open In Colab\"/></a>"
      ]
    },
    {
      "cell_type": "markdown",
      "source": [
        "# Similarity Prediction\n",
        "\n",
        "Molecular similarity assessments using machine learning.\n",
        "Useful for the prediction of molecular similarity evaluations by humans.\n",
        "\n",
        "Molecular similarity is an impressively broad topic with many implications in several areas of chemistry. Its roots lie in the paradigm that ‘similar molecules have similar properties’. For this reason, methods for determining molecular similarity find wide application in pharmaceutical companies, e.g., in the context of structure-activity relationships. The similarity evaluation is also used in the field of chemical legislation, specifically in the procedure to judge if a new molecule can obtain the status of orphan drug with the consequent financial benefits. For this procedure, the European Medicines Agency uses experts’ judgments. It is clear that the perception of the similarity depends on the observer, so the development of models to reproduce the human perception is useful.\n",
        "\n",
        "The dataset was created by Enrico Gandini during his PhD at Università degli Studi di Milano.\n",
        "\n",
        "[Link to the dataset](https://archive.ics.uci.edu/dataset/750/similarity+prediction-1)[click here]\n",
        "\n",
        "# Acknowledgements\n",
        "Gandini, Enrico, Gilles Marcou, Fanny Bonachera, Alexandre Varnek, Stefano Pieraccini, and Maurizio Sironi. 2022.\n",
        " \"Molecular Similarity Perception Based on Machine-Learning Models\" International Journal of Molecular Sciences 23, no. 11: 6114. https://doi.org/10.3390/ijms23116114\n",
        "\n"
      ],
      "metadata": {
        "id": "K69JGML9l723"
      }
    },
    {
      "cell_type": "code",
      "source": [
        "!pip install cairosvg"
      ],
      "metadata": {
        "colab": {
          "base_uri": "https://localhost:8080/"
        },
        "id": "Uv8fus9iirWC",
        "outputId": "6218d4e7-f575-403f-de68-816ded886d61"
      },
      "execution_count": 1,
      "outputs": [
        {
          "output_type": "stream",
          "name": "stdout",
          "text": [
            "Collecting cairosvg\n",
            "  Downloading CairoSVG-2.7.1-py3-none-any.whl (43 kB)\n",
            "\u001b[2K     \u001b[90m━━━━━━━━━━━━━━━━━━━━━━━━━━━━━━━━━━━━━━━━\u001b[0m \u001b[32m43.2/43.2 kB\u001b[0m \u001b[31m842.9 kB/s\u001b[0m eta \u001b[36m0:00:00\u001b[0m\n",
            "\u001b[?25hCollecting cairocffi (from cairosvg)\n",
            "  Downloading cairocffi-1.6.1-py3-none-any.whl (75 kB)\n",
            "\u001b[2K     \u001b[90m━━━━━━━━━━━━━━━━━━━━━━━━━━━━━━━━━━━━━━━━\u001b[0m \u001b[32m75.1/75.1 kB\u001b[0m \u001b[31m3.2 MB/s\u001b[0m eta \u001b[36m0:00:00\u001b[0m\n",
            "\u001b[?25hCollecting cssselect2 (from cairosvg)\n",
            "  Downloading cssselect2-0.7.0-py3-none-any.whl (15 kB)\n",
            "Requirement already satisfied: defusedxml in /usr/local/lib/python3.10/dist-packages (from cairosvg) (0.7.1)\n",
            "Requirement already satisfied: pillow in /usr/local/lib/python3.10/dist-packages (from cairosvg) (9.4.0)\n",
            "Requirement already satisfied: tinycss2 in /usr/local/lib/python3.10/dist-packages (from cairosvg) (1.2.1)\n",
            "Requirement already satisfied: cffi>=1.1.0 in /usr/local/lib/python3.10/dist-packages (from cairocffi->cairosvg) (1.16.0)\n",
            "Requirement already satisfied: webencodings in /usr/local/lib/python3.10/dist-packages (from cssselect2->cairosvg) (0.5.1)\n",
            "Requirement already satisfied: pycparser in /usr/local/lib/python3.10/dist-packages (from cffi>=1.1.0->cairocffi->cairosvg) (2.21)\n",
            "Installing collected packages: cssselect2, cairocffi, cairosvg\n",
            "Successfully installed cairocffi-1.6.1 cairosvg-2.7.1 cssselect2-0.7.0\n"
          ]
        }
      ]
    },
    {
      "cell_type": "code",
      "execution_count": 2,
      "metadata": {
        "id": "fl4baghra1va"
      },
      "outputs": [],
      "source": [
        "import pandas as pd\n",
        "import cairosvg\n",
        "from PIL import Image\n",
        "import numpy as np\n",
        "import os\n",
        "from tensorflow.keras.preprocessing.image import ImageDataGenerator\n",
        "from tensorflow.keras.models import Model\n",
        "from tensorflow.keras.layers import Input, Conv2D, Flatten, Dense, Concatenate"
      ]
    },
    {
      "cell_type": "code",
      "source": [
        "from google.colab import drive\n",
        "drive.mount('/content/drive/')"
      ],
      "metadata": {
        "id": "cmpp1xfGy4X8",
        "colab": {
          "base_uri": "https://localhost:8080/"
        },
        "outputId": "cd0ad72b-1586-458e-8f7d-7cdeeba07f76"
      },
      "execution_count": 4,
      "outputs": [
        {
          "output_type": "stream",
          "name": "stdout",
          "text": [
            "Mounted at /content/drive/\n"
          ]
        }
      ]
    },
    {
      "cell_type": "code",
      "source": [
        "train_data_images_path='/content/drive/My Drive/dataset_Similarity_Prediction/original_training_set/images_2D'\n",
        "train_data_images=os.listdir('/content/drive/My Drive/dataset_Similarity_Prediction/original_training_set/images_2D')\n",
        "train_data_conformers=os.listdir('/content/drive/My Drive/dataset_Similarity_Prediction/original_training_set/conformers_3D')\n",
        "train_data=pd.read_csv('/content/drive/My Drive/dataset_Similarity_Prediction/original_training_set/original_training_set.csv')"
      ],
      "metadata": {
        "id": "fpipWuny66UE"
      },
      "execution_count": 5,
      "outputs": []
    },
    {
      "cell_type": "code",
      "source": [
        "print(train_data)"
      ],
      "metadata": {
        "colab": {
          "base_uri": "https://localhost:8080/"
        },
        "id": "3Gk5Ph36OhaX",
        "outputId": "3ffd18d9-5ae8-4b9a-febf-52d618b2e664"
      },
      "execution_count": 6,
      "outputs": [
        {
          "output_type": "stream",
          "name": "stdout",
          "text": [
            "    id_pair                          curated_smiles_molecule_a  \\\n",
            "0         1                         CCN(CC)CC(=O)Nc1c(C)cccc1C   \n",
            "1         2  Cc1nc2n(c(=O)c1CCN1CCC(c3noc4cc(F)ccc34)CC1)CC...   \n",
            "2         3                                 COc1ccccc1OCC(O)CO   \n",
            "3         4   CCOc1ccccc1OCCN[C@H](C)Cc1ccc(OC)c(S(N)(=O)=O)c1   \n",
            "4         5                                 C[C@H](N)Cc1ccccc1   \n",
            "..      ...                                                ...   \n",
            "95       96  CCC(=O)O[C@]1(C(=O)CCl)[C@@H](C)C[C@H]2[C@@H]3...   \n",
            "96       97                    C[C@H](N)[C@H](O)c1ccc(O)c(O)c1   \n",
            "97       98                      CCOC(=O)C1(c2ccccc2)CCN(C)CC1   \n",
            "98       99  CC1(C)O[C@@H]2C[C@H]3[C@@H]4C[C@H](F)C5=CC(=O)...   \n",
            "99      100  CC(=O)OCC(=O)[C@@]1(OC(C)=O)[C@@H](C)C[C@H]2[C...   \n",
            "\n",
            "                            curated_smiles_molecule_b  tanimoto_cdk_Extended  \\\n",
            "0                   CCCN1CCCC[C@H]1C(=O)Nc1c(C)cccc1C               0.641434   \n",
            "1   Cc1nc2n(c(=O)c1CCN1CCC(c3noc4cc(F)ccc34)CC1)CCCC2               0.928846   \n",
            "2                    COC(=O)CCc1ccc(OCC(O)CNC(C)C)cc1               0.381119   \n",
            "3         CC(C)C(=O)Nc1ccc([N+](=O)[O-])c(C(F)(F)F)c1               0.213429   \n",
            "4                                   CC(C)(N)Cc1ccccc1               0.905660   \n",
            "..                                                ...                    ...   \n",
            "95  CC(=O)S[C@@H]1CC2=CC(=O)CC[C@]2(C)[C@H]2CC[C@@...               0.483240   \n",
            "96                        C[C@@H](N)[C@@H](O)c1ccccc1               0.637755   \n",
            "97                        N[C@@H](Cc1ccc(O)cc1)C(=O)O               0.313869   \n",
            "98  C[C@H]1C[C@H]2[C@@H]3CC[C@](O)(C(=O)CO)[C@@]3(...               0.618243   \n",
            "99  CC1(C)O[C@@H]2C[C@H]3[C@@H]4C[C@H](F)C5=CC(=O)...               0.807927   \n",
            "\n",
            "    TanimotoCombo  frac_similar  \n",
            "0           1.623        0.4688  \n",
            "1           1.812        0.9375  \n",
            "2           1.064        0.1406  \n",
            "3           0.674        0.0313  \n",
            "4           1.690        0.8828  \n",
            "..            ...           ...  \n",
            "95          1.145        0.3413  \n",
            "96          1.430        0.7480  \n",
            "97          1.057        0.0159  \n",
            "98          1.579        0.6772  \n",
            "99          1.389        0.7638  \n",
            "\n",
            "[100 rows x 6 columns]\n"
          ]
        }
      ]
    },
    {
      "cell_type": "code",
      "source": [
        "ids = train_data['id_pair']\n",
        "smiles_a = train_data['curated_smiles_molecule_a']\n",
        "smiles_b = train_data['curated_smiles_molecule_b']\n",
        "tanimoto_coefficients = train_data['tanimoto_cdk_Extended']\n",
        "tanimoto_combo = train_data['TanimotoCombo']\n",
        "frac_similar = train_data['frac_similar']\n"
      ],
      "metadata": {
        "id": "OqshN7GjjfOW"
      },
      "execution_count": 8,
      "outputs": []
    },
    {
      "cell_type": "code",
      "source": [
        "def extract_images_from_svg(svg_file):\n",
        "    png_file = svg_file.replace('.svg', '.png')\n",
        "\n",
        "    # Convert SVG to PNG using CairoSVG\n",
        "    cairosvg.svg2png(url=svg_file, write_to=png_file)\n",
        "    return png_file"
      ],
      "metadata": {
        "id": "jw-GLOAfRzZX"
      },
      "execution_count": 9,
      "outputs": []
    },
    {
      "cell_type": "code",
      "source": [
        "svg_files = [os.path.join(train_data_images_path, file) for file in train_data_images if file.endswith('.svg')]\n",
        "a_images=[]\n",
        "b_images=[]\n",
        "for svg_file in svg_files:\n",
        "    png_img_path = extract_images_from_svg(svg_file)\n",
        "    #png_img_path=preprocess_image(png_img_p)\n",
        "    if png_img_path[104:105]=='a':\n",
        "      a_images.append(png_img_path)\n",
        "    elif png_img_path[104:105]=='b':\n",
        "      b_images.append(png_img_path)"
      ],
      "metadata": {
        "id": "tIlU7ma6ULn0"
      },
      "execution_count": 11,
      "outputs": []
    },
    {
      "cell_type": "code",
      "source": [
        "images_data = [[] for _ in range(101)]  # Initialize a list of lists for each number (0-100)\n",
        "for img_path in a_images + b_images:\n",
        "    molecule_num = int(img_path.split('_')[-1][:3])  # Extract the molecule number\n",
        "    images_data[molecule_num].append(img_path)"
      ],
      "metadata": {
        "id": "LBghB6Ra8GCt"
      },
      "execution_count": 12,
      "outputs": []
    },
    {
      "cell_type": "code",
      "source": [
        "images_data.pop(0)"
      ],
      "metadata": {
        "colab": {
          "base_uri": "https://localhost:8080/"
        },
        "id": "Y04wOvZjeFmI",
        "outputId": "71e1d93f-5436-4ac9-96bf-4104ba1c5b60"
      },
      "execution_count": 22,
      "outputs": [
        {
          "output_type": "execute_result",
          "data": {
            "text/plain": [
              "[]"
            ]
          },
          "metadata": {},
          "execution_count": 22
        }
      ]
    },
    {
      "cell_type": "code",
      "source": [
        "print(images_data)"
      ],
      "metadata": {
        "colab": {
          "base_uri": "https://localhost:8080/"
        },
        "id": "L6749qofZSUD",
        "outputId": "5d980a30-2b8a-4c1e-d356-6f39a0d689c3"
      },
      "execution_count": 23,
      "outputs": [
        {
          "output_type": "stream",
          "name": "stdout",
          "text": [
            "[['/content/drive/My Drive/dataset_Similarity_Prediction/original_training_set/images_2D/image_molecule_001a.png', '/content/drive/My Drive/dataset_Similarity_Prediction/original_training_set/images_2D/image_molecule_001b.png'], ['/content/drive/My Drive/dataset_Similarity_Prediction/original_training_set/images_2D/image_molecule_002a.png', '/content/drive/My Drive/dataset_Similarity_Prediction/original_training_set/images_2D/image_molecule_002b.png'], ['/content/drive/My Drive/dataset_Similarity_Prediction/original_training_set/images_2D/image_molecule_003a.png', '/content/drive/My Drive/dataset_Similarity_Prediction/original_training_set/images_2D/image_molecule_003b.png'], ['/content/drive/My Drive/dataset_Similarity_Prediction/original_training_set/images_2D/image_molecule_004a.png', '/content/drive/My Drive/dataset_Similarity_Prediction/original_training_set/images_2D/image_molecule_004b.png'], ['/content/drive/My Drive/dataset_Similarity_Prediction/original_training_set/images_2D/image_molecule_005a.png', '/content/drive/My Drive/dataset_Similarity_Prediction/original_training_set/images_2D/image_molecule_005b.png'], ['/content/drive/My Drive/dataset_Similarity_Prediction/original_training_set/images_2D/image_molecule_006a.png', '/content/drive/My Drive/dataset_Similarity_Prediction/original_training_set/images_2D/image_molecule_006b.png'], ['/content/drive/My Drive/dataset_Similarity_Prediction/original_training_set/images_2D/image_molecule_007a.png', '/content/drive/My Drive/dataset_Similarity_Prediction/original_training_set/images_2D/image_molecule_007b.png'], ['/content/drive/My Drive/dataset_Similarity_Prediction/original_training_set/images_2D/image_molecule_008a.png', '/content/drive/My Drive/dataset_Similarity_Prediction/original_training_set/images_2D/image_molecule_008b.png'], ['/content/drive/My Drive/dataset_Similarity_Prediction/original_training_set/images_2D/image_molecule_009a.png', '/content/drive/My Drive/dataset_Similarity_Prediction/original_training_set/images_2D/image_molecule_009b.png'], ['/content/drive/My Drive/dataset_Similarity_Prediction/original_training_set/images_2D/image_molecule_010a.png', '/content/drive/My Drive/dataset_Similarity_Prediction/original_training_set/images_2D/image_molecule_010b.png'], ['/content/drive/My Drive/dataset_Similarity_Prediction/original_training_set/images_2D/image_molecule_011a.png', '/content/drive/My Drive/dataset_Similarity_Prediction/original_training_set/images_2D/image_molecule_011b.png'], ['/content/drive/My Drive/dataset_Similarity_Prediction/original_training_set/images_2D/image_molecule_012a.png', '/content/drive/My Drive/dataset_Similarity_Prediction/original_training_set/images_2D/image_molecule_012b.png'], ['/content/drive/My Drive/dataset_Similarity_Prediction/original_training_set/images_2D/image_molecule_013a.png', '/content/drive/My Drive/dataset_Similarity_Prediction/original_training_set/images_2D/image_molecule_013b.png'], ['/content/drive/My Drive/dataset_Similarity_Prediction/original_training_set/images_2D/image_molecule_014a.png', '/content/drive/My Drive/dataset_Similarity_Prediction/original_training_set/images_2D/image_molecule_014b.png'], ['/content/drive/My Drive/dataset_Similarity_Prediction/original_training_set/images_2D/image_molecule_015a.png', '/content/drive/My Drive/dataset_Similarity_Prediction/original_training_set/images_2D/image_molecule_015b.png'], ['/content/drive/My Drive/dataset_Similarity_Prediction/original_training_set/images_2D/image_molecule_016a.png', '/content/drive/My Drive/dataset_Similarity_Prediction/original_training_set/images_2D/image_molecule_016b.png'], ['/content/drive/My Drive/dataset_Similarity_Prediction/original_training_set/images_2D/image_molecule_017a.png', '/content/drive/My Drive/dataset_Similarity_Prediction/original_training_set/images_2D/image_molecule_017b.png'], ['/content/drive/My Drive/dataset_Similarity_Prediction/original_training_set/images_2D/image_molecule_018a.png', '/content/drive/My Drive/dataset_Similarity_Prediction/original_training_set/images_2D/image_molecule_018b.png'], ['/content/drive/My Drive/dataset_Similarity_Prediction/original_training_set/images_2D/image_molecule_019a.png', '/content/drive/My Drive/dataset_Similarity_Prediction/original_training_set/images_2D/image_molecule_019b.png'], ['/content/drive/My Drive/dataset_Similarity_Prediction/original_training_set/images_2D/image_molecule_020a.png', '/content/drive/My Drive/dataset_Similarity_Prediction/original_training_set/images_2D/image_molecule_020b.png'], ['/content/drive/My Drive/dataset_Similarity_Prediction/original_training_set/images_2D/image_molecule_021a.png', '/content/drive/My Drive/dataset_Similarity_Prediction/original_training_set/images_2D/image_molecule_021b.png'], ['/content/drive/My Drive/dataset_Similarity_Prediction/original_training_set/images_2D/image_molecule_022a.png', '/content/drive/My Drive/dataset_Similarity_Prediction/original_training_set/images_2D/image_molecule_022b.png'], ['/content/drive/My Drive/dataset_Similarity_Prediction/original_training_set/images_2D/image_molecule_023a.png', '/content/drive/My Drive/dataset_Similarity_Prediction/original_training_set/images_2D/image_molecule_023b.png'], ['/content/drive/My Drive/dataset_Similarity_Prediction/original_training_set/images_2D/image_molecule_024a.png', '/content/drive/My Drive/dataset_Similarity_Prediction/original_training_set/images_2D/image_molecule_024b.png'], ['/content/drive/My Drive/dataset_Similarity_Prediction/original_training_set/images_2D/image_molecule_025a.png', '/content/drive/My Drive/dataset_Similarity_Prediction/original_training_set/images_2D/image_molecule_025b.png'], ['/content/drive/My Drive/dataset_Similarity_Prediction/original_training_set/images_2D/image_molecule_026a.png', '/content/drive/My Drive/dataset_Similarity_Prediction/original_training_set/images_2D/image_molecule_026b.png'], ['/content/drive/My Drive/dataset_Similarity_Prediction/original_training_set/images_2D/image_molecule_027a.png', '/content/drive/My Drive/dataset_Similarity_Prediction/original_training_set/images_2D/image_molecule_027b.png'], ['/content/drive/My Drive/dataset_Similarity_Prediction/original_training_set/images_2D/image_molecule_028a.png', '/content/drive/My Drive/dataset_Similarity_Prediction/original_training_set/images_2D/image_molecule_028b.png'], ['/content/drive/My Drive/dataset_Similarity_Prediction/original_training_set/images_2D/image_molecule_029a.png', '/content/drive/My Drive/dataset_Similarity_Prediction/original_training_set/images_2D/image_molecule_029b.png'], ['/content/drive/My Drive/dataset_Similarity_Prediction/original_training_set/images_2D/image_molecule_030a.png', '/content/drive/My Drive/dataset_Similarity_Prediction/original_training_set/images_2D/image_molecule_030b.png'], ['/content/drive/My Drive/dataset_Similarity_Prediction/original_training_set/images_2D/image_molecule_031a.png', '/content/drive/My Drive/dataset_Similarity_Prediction/original_training_set/images_2D/image_molecule_031b.png'], ['/content/drive/My Drive/dataset_Similarity_Prediction/original_training_set/images_2D/image_molecule_032a.png', '/content/drive/My Drive/dataset_Similarity_Prediction/original_training_set/images_2D/image_molecule_032b.png'], ['/content/drive/My Drive/dataset_Similarity_Prediction/original_training_set/images_2D/image_molecule_033a.png', '/content/drive/My Drive/dataset_Similarity_Prediction/original_training_set/images_2D/image_molecule_033b.png'], ['/content/drive/My Drive/dataset_Similarity_Prediction/original_training_set/images_2D/image_molecule_034a.png', '/content/drive/My Drive/dataset_Similarity_Prediction/original_training_set/images_2D/image_molecule_034b.png'], ['/content/drive/My Drive/dataset_Similarity_Prediction/original_training_set/images_2D/image_molecule_035a.png', '/content/drive/My Drive/dataset_Similarity_Prediction/original_training_set/images_2D/image_molecule_035b.png'], ['/content/drive/My Drive/dataset_Similarity_Prediction/original_training_set/images_2D/image_molecule_036a.png', '/content/drive/My Drive/dataset_Similarity_Prediction/original_training_set/images_2D/image_molecule_036b.png'], ['/content/drive/My Drive/dataset_Similarity_Prediction/original_training_set/images_2D/image_molecule_037a.png', '/content/drive/My Drive/dataset_Similarity_Prediction/original_training_set/images_2D/image_molecule_037b.png'], ['/content/drive/My Drive/dataset_Similarity_Prediction/original_training_set/images_2D/image_molecule_038a.png', '/content/drive/My Drive/dataset_Similarity_Prediction/original_training_set/images_2D/image_molecule_038b.png'], ['/content/drive/My Drive/dataset_Similarity_Prediction/original_training_set/images_2D/image_molecule_039a.png', '/content/drive/My Drive/dataset_Similarity_Prediction/original_training_set/images_2D/image_molecule_039b.png'], ['/content/drive/My Drive/dataset_Similarity_Prediction/original_training_set/images_2D/image_molecule_040a.png', '/content/drive/My Drive/dataset_Similarity_Prediction/original_training_set/images_2D/image_molecule_040b.png'], ['/content/drive/My Drive/dataset_Similarity_Prediction/original_training_set/images_2D/image_molecule_041a.png', '/content/drive/My Drive/dataset_Similarity_Prediction/original_training_set/images_2D/image_molecule_041b.png'], ['/content/drive/My Drive/dataset_Similarity_Prediction/original_training_set/images_2D/image_molecule_042a.png', '/content/drive/My Drive/dataset_Similarity_Prediction/original_training_set/images_2D/image_molecule_042b.png'], ['/content/drive/My Drive/dataset_Similarity_Prediction/original_training_set/images_2D/image_molecule_043a.png', '/content/drive/My Drive/dataset_Similarity_Prediction/original_training_set/images_2D/image_molecule_043b.png'], ['/content/drive/My Drive/dataset_Similarity_Prediction/original_training_set/images_2D/image_molecule_044a.png', '/content/drive/My Drive/dataset_Similarity_Prediction/original_training_set/images_2D/image_molecule_044b.png'], ['/content/drive/My Drive/dataset_Similarity_Prediction/original_training_set/images_2D/image_molecule_045a.png', '/content/drive/My Drive/dataset_Similarity_Prediction/original_training_set/images_2D/image_molecule_045b.png'], ['/content/drive/My Drive/dataset_Similarity_Prediction/original_training_set/images_2D/image_molecule_046a.png', '/content/drive/My Drive/dataset_Similarity_Prediction/original_training_set/images_2D/image_molecule_046b.png'], ['/content/drive/My Drive/dataset_Similarity_Prediction/original_training_set/images_2D/image_molecule_047a.png', '/content/drive/My Drive/dataset_Similarity_Prediction/original_training_set/images_2D/image_molecule_047b.png'], ['/content/drive/My Drive/dataset_Similarity_Prediction/original_training_set/images_2D/image_molecule_048a.png', '/content/drive/My Drive/dataset_Similarity_Prediction/original_training_set/images_2D/image_molecule_048b.png'], ['/content/drive/My Drive/dataset_Similarity_Prediction/original_training_set/images_2D/image_molecule_049a.png', '/content/drive/My Drive/dataset_Similarity_Prediction/original_training_set/images_2D/image_molecule_049b.png'], ['/content/drive/My Drive/dataset_Similarity_Prediction/original_training_set/images_2D/image_molecule_050a.png', '/content/drive/My Drive/dataset_Similarity_Prediction/original_training_set/images_2D/image_molecule_050b.png'], ['/content/drive/My Drive/dataset_Similarity_Prediction/original_training_set/images_2D/image_molecule_051a.png', '/content/drive/My Drive/dataset_Similarity_Prediction/original_training_set/images_2D/image_molecule_051b.png'], ['/content/drive/My Drive/dataset_Similarity_Prediction/original_training_set/images_2D/image_molecule_052a.png', '/content/drive/My Drive/dataset_Similarity_Prediction/original_training_set/images_2D/image_molecule_052b.png'], ['/content/drive/My Drive/dataset_Similarity_Prediction/original_training_set/images_2D/image_molecule_053a.png', '/content/drive/My Drive/dataset_Similarity_Prediction/original_training_set/images_2D/image_molecule_053b.png'], ['/content/drive/My Drive/dataset_Similarity_Prediction/original_training_set/images_2D/image_molecule_054a.png', '/content/drive/My Drive/dataset_Similarity_Prediction/original_training_set/images_2D/image_molecule_054b.png'], ['/content/drive/My Drive/dataset_Similarity_Prediction/original_training_set/images_2D/image_molecule_055a.png', '/content/drive/My Drive/dataset_Similarity_Prediction/original_training_set/images_2D/image_molecule_055b.png'], ['/content/drive/My Drive/dataset_Similarity_Prediction/original_training_set/images_2D/image_molecule_056a.png', '/content/drive/My Drive/dataset_Similarity_Prediction/original_training_set/images_2D/image_molecule_056b.png'], ['/content/drive/My Drive/dataset_Similarity_Prediction/original_training_set/images_2D/image_molecule_057a.png', '/content/drive/My Drive/dataset_Similarity_Prediction/original_training_set/images_2D/image_molecule_057b.png'], ['/content/drive/My Drive/dataset_Similarity_Prediction/original_training_set/images_2D/image_molecule_058a.png', '/content/drive/My Drive/dataset_Similarity_Prediction/original_training_set/images_2D/image_molecule_058b.png'], ['/content/drive/My Drive/dataset_Similarity_Prediction/original_training_set/images_2D/image_molecule_059a.png', '/content/drive/My Drive/dataset_Similarity_Prediction/original_training_set/images_2D/image_molecule_059b.png'], ['/content/drive/My Drive/dataset_Similarity_Prediction/original_training_set/images_2D/image_molecule_060a.png', '/content/drive/My Drive/dataset_Similarity_Prediction/original_training_set/images_2D/image_molecule_060b.png'], ['/content/drive/My Drive/dataset_Similarity_Prediction/original_training_set/images_2D/image_molecule_061a.png', '/content/drive/My Drive/dataset_Similarity_Prediction/original_training_set/images_2D/image_molecule_061b.png'], ['/content/drive/My Drive/dataset_Similarity_Prediction/original_training_set/images_2D/image_molecule_062a.png', '/content/drive/My Drive/dataset_Similarity_Prediction/original_training_set/images_2D/image_molecule_062b.png'], ['/content/drive/My Drive/dataset_Similarity_Prediction/original_training_set/images_2D/image_molecule_063a.png', '/content/drive/My Drive/dataset_Similarity_Prediction/original_training_set/images_2D/image_molecule_063b.png'], ['/content/drive/My Drive/dataset_Similarity_Prediction/original_training_set/images_2D/image_molecule_064a.png', '/content/drive/My Drive/dataset_Similarity_Prediction/original_training_set/images_2D/image_molecule_064b.png'], ['/content/drive/My Drive/dataset_Similarity_Prediction/original_training_set/images_2D/image_molecule_065a.png', '/content/drive/My Drive/dataset_Similarity_Prediction/original_training_set/images_2D/image_molecule_065b.png'], ['/content/drive/My Drive/dataset_Similarity_Prediction/original_training_set/images_2D/image_molecule_066a.png', '/content/drive/My Drive/dataset_Similarity_Prediction/original_training_set/images_2D/image_molecule_066b.png'], ['/content/drive/My Drive/dataset_Similarity_Prediction/original_training_set/images_2D/image_molecule_067a.png', '/content/drive/My Drive/dataset_Similarity_Prediction/original_training_set/images_2D/image_molecule_067b.png'], ['/content/drive/My Drive/dataset_Similarity_Prediction/original_training_set/images_2D/image_molecule_068a.png', '/content/drive/My Drive/dataset_Similarity_Prediction/original_training_set/images_2D/image_molecule_068b.png'], ['/content/drive/My Drive/dataset_Similarity_Prediction/original_training_set/images_2D/image_molecule_069a.png', '/content/drive/My Drive/dataset_Similarity_Prediction/original_training_set/images_2D/image_molecule_069b.png'], ['/content/drive/My Drive/dataset_Similarity_Prediction/original_training_set/images_2D/image_molecule_070a.png', '/content/drive/My Drive/dataset_Similarity_Prediction/original_training_set/images_2D/image_molecule_070b.png'], ['/content/drive/My Drive/dataset_Similarity_Prediction/original_training_set/images_2D/image_molecule_071a.png', '/content/drive/My Drive/dataset_Similarity_Prediction/original_training_set/images_2D/image_molecule_071b.png'], ['/content/drive/My Drive/dataset_Similarity_Prediction/original_training_set/images_2D/image_molecule_072a.png', '/content/drive/My Drive/dataset_Similarity_Prediction/original_training_set/images_2D/image_molecule_072b.png'], ['/content/drive/My Drive/dataset_Similarity_Prediction/original_training_set/images_2D/image_molecule_073a.png', '/content/drive/My Drive/dataset_Similarity_Prediction/original_training_set/images_2D/image_molecule_073b.png'], ['/content/drive/My Drive/dataset_Similarity_Prediction/original_training_set/images_2D/image_molecule_074a.png', '/content/drive/My Drive/dataset_Similarity_Prediction/original_training_set/images_2D/image_molecule_074b.png'], ['/content/drive/My Drive/dataset_Similarity_Prediction/original_training_set/images_2D/image_molecule_075a.png', '/content/drive/My Drive/dataset_Similarity_Prediction/original_training_set/images_2D/image_molecule_075b.png'], ['/content/drive/My Drive/dataset_Similarity_Prediction/original_training_set/images_2D/image_molecule_076a.png', '/content/drive/My Drive/dataset_Similarity_Prediction/original_training_set/images_2D/image_molecule_076b.png'], ['/content/drive/My Drive/dataset_Similarity_Prediction/original_training_set/images_2D/image_molecule_077a.png', '/content/drive/My Drive/dataset_Similarity_Prediction/original_training_set/images_2D/image_molecule_077b.png'], ['/content/drive/My Drive/dataset_Similarity_Prediction/original_training_set/images_2D/image_molecule_078a.png', '/content/drive/My Drive/dataset_Similarity_Prediction/original_training_set/images_2D/image_molecule_078b.png'], ['/content/drive/My Drive/dataset_Similarity_Prediction/original_training_set/images_2D/image_molecule_079a.png', '/content/drive/My Drive/dataset_Similarity_Prediction/original_training_set/images_2D/image_molecule_079b.png'], ['/content/drive/My Drive/dataset_Similarity_Prediction/original_training_set/images_2D/image_molecule_080a.png', '/content/drive/My Drive/dataset_Similarity_Prediction/original_training_set/images_2D/image_molecule_080b.png'], ['/content/drive/My Drive/dataset_Similarity_Prediction/original_training_set/images_2D/image_molecule_081a.png', '/content/drive/My Drive/dataset_Similarity_Prediction/original_training_set/images_2D/image_molecule_081b.png'], ['/content/drive/My Drive/dataset_Similarity_Prediction/original_training_set/images_2D/image_molecule_082a.png', '/content/drive/My Drive/dataset_Similarity_Prediction/original_training_set/images_2D/image_molecule_082b.png'], ['/content/drive/My Drive/dataset_Similarity_Prediction/original_training_set/images_2D/image_molecule_083a.png', '/content/drive/My Drive/dataset_Similarity_Prediction/original_training_set/images_2D/image_molecule_083b.png'], ['/content/drive/My Drive/dataset_Similarity_Prediction/original_training_set/images_2D/image_molecule_084a.png', '/content/drive/My Drive/dataset_Similarity_Prediction/original_training_set/images_2D/image_molecule_084b.png'], ['/content/drive/My Drive/dataset_Similarity_Prediction/original_training_set/images_2D/image_molecule_085a.png', '/content/drive/My Drive/dataset_Similarity_Prediction/original_training_set/images_2D/image_molecule_085b.png'], ['/content/drive/My Drive/dataset_Similarity_Prediction/original_training_set/images_2D/image_molecule_086a.png', '/content/drive/My Drive/dataset_Similarity_Prediction/original_training_set/images_2D/image_molecule_086b.png'], ['/content/drive/My Drive/dataset_Similarity_Prediction/original_training_set/images_2D/image_molecule_087a.png', '/content/drive/My Drive/dataset_Similarity_Prediction/original_training_set/images_2D/image_molecule_087b.png'], ['/content/drive/My Drive/dataset_Similarity_Prediction/original_training_set/images_2D/image_molecule_088a.png', '/content/drive/My Drive/dataset_Similarity_Prediction/original_training_set/images_2D/image_molecule_088b.png'], ['/content/drive/My Drive/dataset_Similarity_Prediction/original_training_set/images_2D/image_molecule_089a.png', '/content/drive/My Drive/dataset_Similarity_Prediction/original_training_set/images_2D/image_molecule_089b.png'], ['/content/drive/My Drive/dataset_Similarity_Prediction/original_training_set/images_2D/image_molecule_090a.png', '/content/drive/My Drive/dataset_Similarity_Prediction/original_training_set/images_2D/image_molecule_090b.png'], ['/content/drive/My Drive/dataset_Similarity_Prediction/original_training_set/images_2D/image_molecule_091a.png', '/content/drive/My Drive/dataset_Similarity_Prediction/original_training_set/images_2D/image_molecule_091b.png'], ['/content/drive/My Drive/dataset_Similarity_Prediction/original_training_set/images_2D/image_molecule_092a.png', '/content/drive/My Drive/dataset_Similarity_Prediction/original_training_set/images_2D/image_molecule_092b.png'], ['/content/drive/My Drive/dataset_Similarity_Prediction/original_training_set/images_2D/image_molecule_093a.png', '/content/drive/My Drive/dataset_Similarity_Prediction/original_training_set/images_2D/image_molecule_093b.png'], ['/content/drive/My Drive/dataset_Similarity_Prediction/original_training_set/images_2D/image_molecule_094a.png', '/content/drive/My Drive/dataset_Similarity_Prediction/original_training_set/images_2D/image_molecule_094b.png'], ['/content/drive/My Drive/dataset_Similarity_Prediction/original_training_set/images_2D/image_molecule_095a.png', '/content/drive/My Drive/dataset_Similarity_Prediction/original_training_set/images_2D/image_molecule_095b.png'], ['/content/drive/My Drive/dataset_Similarity_Prediction/original_training_set/images_2D/image_molecule_096a.png', '/content/drive/My Drive/dataset_Similarity_Prediction/original_training_set/images_2D/image_molecule_096b.png'], ['/content/drive/My Drive/dataset_Similarity_Prediction/original_training_set/images_2D/image_molecule_097a.png', '/content/drive/My Drive/dataset_Similarity_Prediction/original_training_set/images_2D/image_molecule_097b.png'], ['/content/drive/My Drive/dataset_Similarity_Prediction/original_training_set/images_2D/image_molecule_098a.png', '/content/drive/My Drive/dataset_Similarity_Prediction/original_training_set/images_2D/image_molecule_098b.png'], ['/content/drive/My Drive/dataset_Similarity_Prediction/original_training_set/images_2D/image_molecule_099a.png', '/content/drive/My Drive/dataset_Similarity_Prediction/original_training_set/images_2D/image_molecule_099b.png'], ['/content/drive/My Drive/dataset_Similarity_Prediction/original_training_set/images_2D/image_molecule_100a.png', '/content/drive/My Drive/dataset_Similarity_Prediction/original_training_set/images_2D/image_molecule_100b.png']]\n"
          ]
        }
      ]
    },
    {
      "cell_type": "code",
      "source": [
        "img_width, img_height, img_channels = 64, 64, 3"
      ],
      "metadata": {
        "id": "MlgZvN6JO5ow"
      },
      "execution_count": 16,
      "outputs": []
    },
    {
      "cell_type": "code",
      "source": [
        "# Convert images_data to numpy arrays for input to the model\n",
        "image_pairs = np.array(images_data)  # Assuming images_data contains pairs of preprocessed images\n",
        "frac_similar_values = np.array(train_data['frac_similar'])  # Assuming frac_similar is a column from train_data\n",
        "print(image_pairs)\n",
        "# Assuming your image_pairs are of shape (num_samples, 2, img_width, img_height, img_channels)\n",
        "# Reshape to (num_samples, img_width, img_height, img_channels) for each image in the pair\n",
        "#image_pairs = image_pairs.reshape(-1, 2, img_width, img_height, img_channels)\n"
      ],
      "metadata": {
        "colab": {
          "base_uri": "https://localhost:8080/"
        },
        "id": "1Sqdxt2XN3w4",
        "outputId": "19977aee-8fc4-4f2e-dae1-b469cdda441d"
      },
      "execution_count": 24,
      "outputs": [
        {
          "output_type": "stream",
          "name": "stdout",
          "text": [
            "[['/content/drive/My Drive/dataset_Similarity_Prediction/original_training_set/images_2D/image_molecule_001a.png'\n",
            "  '/content/drive/My Drive/dataset_Similarity_Prediction/original_training_set/images_2D/image_molecule_001b.png']\n",
            " ['/content/drive/My Drive/dataset_Similarity_Prediction/original_training_set/images_2D/image_molecule_002a.png'\n",
            "  '/content/drive/My Drive/dataset_Similarity_Prediction/original_training_set/images_2D/image_molecule_002b.png']\n",
            " ['/content/drive/My Drive/dataset_Similarity_Prediction/original_training_set/images_2D/image_molecule_003a.png'\n",
            "  '/content/drive/My Drive/dataset_Similarity_Prediction/original_training_set/images_2D/image_molecule_003b.png']\n",
            " ['/content/drive/My Drive/dataset_Similarity_Prediction/original_training_set/images_2D/image_molecule_004a.png'\n",
            "  '/content/drive/My Drive/dataset_Similarity_Prediction/original_training_set/images_2D/image_molecule_004b.png']\n",
            " ['/content/drive/My Drive/dataset_Similarity_Prediction/original_training_set/images_2D/image_molecule_005a.png'\n",
            "  '/content/drive/My Drive/dataset_Similarity_Prediction/original_training_set/images_2D/image_molecule_005b.png']\n",
            " ['/content/drive/My Drive/dataset_Similarity_Prediction/original_training_set/images_2D/image_molecule_006a.png'\n",
            "  '/content/drive/My Drive/dataset_Similarity_Prediction/original_training_set/images_2D/image_molecule_006b.png']\n",
            " ['/content/drive/My Drive/dataset_Similarity_Prediction/original_training_set/images_2D/image_molecule_007a.png'\n",
            "  '/content/drive/My Drive/dataset_Similarity_Prediction/original_training_set/images_2D/image_molecule_007b.png']\n",
            " ['/content/drive/My Drive/dataset_Similarity_Prediction/original_training_set/images_2D/image_molecule_008a.png'\n",
            "  '/content/drive/My Drive/dataset_Similarity_Prediction/original_training_set/images_2D/image_molecule_008b.png']\n",
            " ['/content/drive/My Drive/dataset_Similarity_Prediction/original_training_set/images_2D/image_molecule_009a.png'\n",
            "  '/content/drive/My Drive/dataset_Similarity_Prediction/original_training_set/images_2D/image_molecule_009b.png']\n",
            " ['/content/drive/My Drive/dataset_Similarity_Prediction/original_training_set/images_2D/image_molecule_010a.png'\n",
            "  '/content/drive/My Drive/dataset_Similarity_Prediction/original_training_set/images_2D/image_molecule_010b.png']\n",
            " ['/content/drive/My Drive/dataset_Similarity_Prediction/original_training_set/images_2D/image_molecule_011a.png'\n",
            "  '/content/drive/My Drive/dataset_Similarity_Prediction/original_training_set/images_2D/image_molecule_011b.png']\n",
            " ['/content/drive/My Drive/dataset_Similarity_Prediction/original_training_set/images_2D/image_molecule_012a.png'\n",
            "  '/content/drive/My Drive/dataset_Similarity_Prediction/original_training_set/images_2D/image_molecule_012b.png']\n",
            " ['/content/drive/My Drive/dataset_Similarity_Prediction/original_training_set/images_2D/image_molecule_013a.png'\n",
            "  '/content/drive/My Drive/dataset_Similarity_Prediction/original_training_set/images_2D/image_molecule_013b.png']\n",
            " ['/content/drive/My Drive/dataset_Similarity_Prediction/original_training_set/images_2D/image_molecule_014a.png'\n",
            "  '/content/drive/My Drive/dataset_Similarity_Prediction/original_training_set/images_2D/image_molecule_014b.png']\n",
            " ['/content/drive/My Drive/dataset_Similarity_Prediction/original_training_set/images_2D/image_molecule_015a.png'\n",
            "  '/content/drive/My Drive/dataset_Similarity_Prediction/original_training_set/images_2D/image_molecule_015b.png']\n",
            " ['/content/drive/My Drive/dataset_Similarity_Prediction/original_training_set/images_2D/image_molecule_016a.png'\n",
            "  '/content/drive/My Drive/dataset_Similarity_Prediction/original_training_set/images_2D/image_molecule_016b.png']\n",
            " ['/content/drive/My Drive/dataset_Similarity_Prediction/original_training_set/images_2D/image_molecule_017a.png'\n",
            "  '/content/drive/My Drive/dataset_Similarity_Prediction/original_training_set/images_2D/image_molecule_017b.png']\n",
            " ['/content/drive/My Drive/dataset_Similarity_Prediction/original_training_set/images_2D/image_molecule_018a.png'\n",
            "  '/content/drive/My Drive/dataset_Similarity_Prediction/original_training_set/images_2D/image_molecule_018b.png']\n",
            " ['/content/drive/My Drive/dataset_Similarity_Prediction/original_training_set/images_2D/image_molecule_019a.png'\n",
            "  '/content/drive/My Drive/dataset_Similarity_Prediction/original_training_set/images_2D/image_molecule_019b.png']\n",
            " ['/content/drive/My Drive/dataset_Similarity_Prediction/original_training_set/images_2D/image_molecule_020a.png'\n",
            "  '/content/drive/My Drive/dataset_Similarity_Prediction/original_training_set/images_2D/image_molecule_020b.png']\n",
            " ['/content/drive/My Drive/dataset_Similarity_Prediction/original_training_set/images_2D/image_molecule_021a.png'\n",
            "  '/content/drive/My Drive/dataset_Similarity_Prediction/original_training_set/images_2D/image_molecule_021b.png']\n",
            " ['/content/drive/My Drive/dataset_Similarity_Prediction/original_training_set/images_2D/image_molecule_022a.png'\n",
            "  '/content/drive/My Drive/dataset_Similarity_Prediction/original_training_set/images_2D/image_molecule_022b.png']\n",
            " ['/content/drive/My Drive/dataset_Similarity_Prediction/original_training_set/images_2D/image_molecule_023a.png'\n",
            "  '/content/drive/My Drive/dataset_Similarity_Prediction/original_training_set/images_2D/image_molecule_023b.png']\n",
            " ['/content/drive/My Drive/dataset_Similarity_Prediction/original_training_set/images_2D/image_molecule_024a.png'\n",
            "  '/content/drive/My Drive/dataset_Similarity_Prediction/original_training_set/images_2D/image_molecule_024b.png']\n",
            " ['/content/drive/My Drive/dataset_Similarity_Prediction/original_training_set/images_2D/image_molecule_025a.png'\n",
            "  '/content/drive/My Drive/dataset_Similarity_Prediction/original_training_set/images_2D/image_molecule_025b.png']\n",
            " ['/content/drive/My Drive/dataset_Similarity_Prediction/original_training_set/images_2D/image_molecule_026a.png'\n",
            "  '/content/drive/My Drive/dataset_Similarity_Prediction/original_training_set/images_2D/image_molecule_026b.png']\n",
            " ['/content/drive/My Drive/dataset_Similarity_Prediction/original_training_set/images_2D/image_molecule_027a.png'\n",
            "  '/content/drive/My Drive/dataset_Similarity_Prediction/original_training_set/images_2D/image_molecule_027b.png']\n",
            " ['/content/drive/My Drive/dataset_Similarity_Prediction/original_training_set/images_2D/image_molecule_028a.png'\n",
            "  '/content/drive/My Drive/dataset_Similarity_Prediction/original_training_set/images_2D/image_molecule_028b.png']\n",
            " ['/content/drive/My Drive/dataset_Similarity_Prediction/original_training_set/images_2D/image_molecule_029a.png'\n",
            "  '/content/drive/My Drive/dataset_Similarity_Prediction/original_training_set/images_2D/image_molecule_029b.png']\n",
            " ['/content/drive/My Drive/dataset_Similarity_Prediction/original_training_set/images_2D/image_molecule_030a.png'\n",
            "  '/content/drive/My Drive/dataset_Similarity_Prediction/original_training_set/images_2D/image_molecule_030b.png']\n",
            " ['/content/drive/My Drive/dataset_Similarity_Prediction/original_training_set/images_2D/image_molecule_031a.png'\n",
            "  '/content/drive/My Drive/dataset_Similarity_Prediction/original_training_set/images_2D/image_molecule_031b.png']\n",
            " ['/content/drive/My Drive/dataset_Similarity_Prediction/original_training_set/images_2D/image_molecule_032a.png'\n",
            "  '/content/drive/My Drive/dataset_Similarity_Prediction/original_training_set/images_2D/image_molecule_032b.png']\n",
            " ['/content/drive/My Drive/dataset_Similarity_Prediction/original_training_set/images_2D/image_molecule_033a.png'\n",
            "  '/content/drive/My Drive/dataset_Similarity_Prediction/original_training_set/images_2D/image_molecule_033b.png']\n",
            " ['/content/drive/My Drive/dataset_Similarity_Prediction/original_training_set/images_2D/image_molecule_034a.png'\n",
            "  '/content/drive/My Drive/dataset_Similarity_Prediction/original_training_set/images_2D/image_molecule_034b.png']\n",
            " ['/content/drive/My Drive/dataset_Similarity_Prediction/original_training_set/images_2D/image_molecule_035a.png'\n",
            "  '/content/drive/My Drive/dataset_Similarity_Prediction/original_training_set/images_2D/image_molecule_035b.png']\n",
            " ['/content/drive/My Drive/dataset_Similarity_Prediction/original_training_set/images_2D/image_molecule_036a.png'\n",
            "  '/content/drive/My Drive/dataset_Similarity_Prediction/original_training_set/images_2D/image_molecule_036b.png']\n",
            " ['/content/drive/My Drive/dataset_Similarity_Prediction/original_training_set/images_2D/image_molecule_037a.png'\n",
            "  '/content/drive/My Drive/dataset_Similarity_Prediction/original_training_set/images_2D/image_molecule_037b.png']\n",
            " ['/content/drive/My Drive/dataset_Similarity_Prediction/original_training_set/images_2D/image_molecule_038a.png'\n",
            "  '/content/drive/My Drive/dataset_Similarity_Prediction/original_training_set/images_2D/image_molecule_038b.png']\n",
            " ['/content/drive/My Drive/dataset_Similarity_Prediction/original_training_set/images_2D/image_molecule_039a.png'\n",
            "  '/content/drive/My Drive/dataset_Similarity_Prediction/original_training_set/images_2D/image_molecule_039b.png']\n",
            " ['/content/drive/My Drive/dataset_Similarity_Prediction/original_training_set/images_2D/image_molecule_040a.png'\n",
            "  '/content/drive/My Drive/dataset_Similarity_Prediction/original_training_set/images_2D/image_molecule_040b.png']\n",
            " ['/content/drive/My Drive/dataset_Similarity_Prediction/original_training_set/images_2D/image_molecule_041a.png'\n",
            "  '/content/drive/My Drive/dataset_Similarity_Prediction/original_training_set/images_2D/image_molecule_041b.png']\n",
            " ['/content/drive/My Drive/dataset_Similarity_Prediction/original_training_set/images_2D/image_molecule_042a.png'\n",
            "  '/content/drive/My Drive/dataset_Similarity_Prediction/original_training_set/images_2D/image_molecule_042b.png']\n",
            " ['/content/drive/My Drive/dataset_Similarity_Prediction/original_training_set/images_2D/image_molecule_043a.png'\n",
            "  '/content/drive/My Drive/dataset_Similarity_Prediction/original_training_set/images_2D/image_molecule_043b.png']\n",
            " ['/content/drive/My Drive/dataset_Similarity_Prediction/original_training_set/images_2D/image_molecule_044a.png'\n",
            "  '/content/drive/My Drive/dataset_Similarity_Prediction/original_training_set/images_2D/image_molecule_044b.png']\n",
            " ['/content/drive/My Drive/dataset_Similarity_Prediction/original_training_set/images_2D/image_molecule_045a.png'\n",
            "  '/content/drive/My Drive/dataset_Similarity_Prediction/original_training_set/images_2D/image_molecule_045b.png']\n",
            " ['/content/drive/My Drive/dataset_Similarity_Prediction/original_training_set/images_2D/image_molecule_046a.png'\n",
            "  '/content/drive/My Drive/dataset_Similarity_Prediction/original_training_set/images_2D/image_molecule_046b.png']\n",
            " ['/content/drive/My Drive/dataset_Similarity_Prediction/original_training_set/images_2D/image_molecule_047a.png'\n",
            "  '/content/drive/My Drive/dataset_Similarity_Prediction/original_training_set/images_2D/image_molecule_047b.png']\n",
            " ['/content/drive/My Drive/dataset_Similarity_Prediction/original_training_set/images_2D/image_molecule_048a.png'\n",
            "  '/content/drive/My Drive/dataset_Similarity_Prediction/original_training_set/images_2D/image_molecule_048b.png']\n",
            " ['/content/drive/My Drive/dataset_Similarity_Prediction/original_training_set/images_2D/image_molecule_049a.png'\n",
            "  '/content/drive/My Drive/dataset_Similarity_Prediction/original_training_set/images_2D/image_molecule_049b.png']\n",
            " ['/content/drive/My Drive/dataset_Similarity_Prediction/original_training_set/images_2D/image_molecule_050a.png'\n",
            "  '/content/drive/My Drive/dataset_Similarity_Prediction/original_training_set/images_2D/image_molecule_050b.png']\n",
            " ['/content/drive/My Drive/dataset_Similarity_Prediction/original_training_set/images_2D/image_molecule_051a.png'\n",
            "  '/content/drive/My Drive/dataset_Similarity_Prediction/original_training_set/images_2D/image_molecule_051b.png']\n",
            " ['/content/drive/My Drive/dataset_Similarity_Prediction/original_training_set/images_2D/image_molecule_052a.png'\n",
            "  '/content/drive/My Drive/dataset_Similarity_Prediction/original_training_set/images_2D/image_molecule_052b.png']\n",
            " ['/content/drive/My Drive/dataset_Similarity_Prediction/original_training_set/images_2D/image_molecule_053a.png'\n",
            "  '/content/drive/My Drive/dataset_Similarity_Prediction/original_training_set/images_2D/image_molecule_053b.png']\n",
            " ['/content/drive/My Drive/dataset_Similarity_Prediction/original_training_set/images_2D/image_molecule_054a.png'\n",
            "  '/content/drive/My Drive/dataset_Similarity_Prediction/original_training_set/images_2D/image_molecule_054b.png']\n",
            " ['/content/drive/My Drive/dataset_Similarity_Prediction/original_training_set/images_2D/image_molecule_055a.png'\n",
            "  '/content/drive/My Drive/dataset_Similarity_Prediction/original_training_set/images_2D/image_molecule_055b.png']\n",
            " ['/content/drive/My Drive/dataset_Similarity_Prediction/original_training_set/images_2D/image_molecule_056a.png'\n",
            "  '/content/drive/My Drive/dataset_Similarity_Prediction/original_training_set/images_2D/image_molecule_056b.png']\n",
            " ['/content/drive/My Drive/dataset_Similarity_Prediction/original_training_set/images_2D/image_molecule_057a.png'\n",
            "  '/content/drive/My Drive/dataset_Similarity_Prediction/original_training_set/images_2D/image_molecule_057b.png']\n",
            " ['/content/drive/My Drive/dataset_Similarity_Prediction/original_training_set/images_2D/image_molecule_058a.png'\n",
            "  '/content/drive/My Drive/dataset_Similarity_Prediction/original_training_set/images_2D/image_molecule_058b.png']\n",
            " ['/content/drive/My Drive/dataset_Similarity_Prediction/original_training_set/images_2D/image_molecule_059a.png'\n",
            "  '/content/drive/My Drive/dataset_Similarity_Prediction/original_training_set/images_2D/image_molecule_059b.png']\n",
            " ['/content/drive/My Drive/dataset_Similarity_Prediction/original_training_set/images_2D/image_molecule_060a.png'\n",
            "  '/content/drive/My Drive/dataset_Similarity_Prediction/original_training_set/images_2D/image_molecule_060b.png']\n",
            " ['/content/drive/My Drive/dataset_Similarity_Prediction/original_training_set/images_2D/image_molecule_061a.png'\n",
            "  '/content/drive/My Drive/dataset_Similarity_Prediction/original_training_set/images_2D/image_molecule_061b.png']\n",
            " ['/content/drive/My Drive/dataset_Similarity_Prediction/original_training_set/images_2D/image_molecule_062a.png'\n",
            "  '/content/drive/My Drive/dataset_Similarity_Prediction/original_training_set/images_2D/image_molecule_062b.png']\n",
            " ['/content/drive/My Drive/dataset_Similarity_Prediction/original_training_set/images_2D/image_molecule_063a.png'\n",
            "  '/content/drive/My Drive/dataset_Similarity_Prediction/original_training_set/images_2D/image_molecule_063b.png']\n",
            " ['/content/drive/My Drive/dataset_Similarity_Prediction/original_training_set/images_2D/image_molecule_064a.png'\n",
            "  '/content/drive/My Drive/dataset_Similarity_Prediction/original_training_set/images_2D/image_molecule_064b.png']\n",
            " ['/content/drive/My Drive/dataset_Similarity_Prediction/original_training_set/images_2D/image_molecule_065a.png'\n",
            "  '/content/drive/My Drive/dataset_Similarity_Prediction/original_training_set/images_2D/image_molecule_065b.png']\n",
            " ['/content/drive/My Drive/dataset_Similarity_Prediction/original_training_set/images_2D/image_molecule_066a.png'\n",
            "  '/content/drive/My Drive/dataset_Similarity_Prediction/original_training_set/images_2D/image_molecule_066b.png']\n",
            " ['/content/drive/My Drive/dataset_Similarity_Prediction/original_training_set/images_2D/image_molecule_067a.png'\n",
            "  '/content/drive/My Drive/dataset_Similarity_Prediction/original_training_set/images_2D/image_molecule_067b.png']\n",
            " ['/content/drive/My Drive/dataset_Similarity_Prediction/original_training_set/images_2D/image_molecule_068a.png'\n",
            "  '/content/drive/My Drive/dataset_Similarity_Prediction/original_training_set/images_2D/image_molecule_068b.png']\n",
            " ['/content/drive/My Drive/dataset_Similarity_Prediction/original_training_set/images_2D/image_molecule_069a.png'\n",
            "  '/content/drive/My Drive/dataset_Similarity_Prediction/original_training_set/images_2D/image_molecule_069b.png']\n",
            " ['/content/drive/My Drive/dataset_Similarity_Prediction/original_training_set/images_2D/image_molecule_070a.png'\n",
            "  '/content/drive/My Drive/dataset_Similarity_Prediction/original_training_set/images_2D/image_molecule_070b.png']\n",
            " ['/content/drive/My Drive/dataset_Similarity_Prediction/original_training_set/images_2D/image_molecule_071a.png'\n",
            "  '/content/drive/My Drive/dataset_Similarity_Prediction/original_training_set/images_2D/image_molecule_071b.png']\n",
            " ['/content/drive/My Drive/dataset_Similarity_Prediction/original_training_set/images_2D/image_molecule_072a.png'\n",
            "  '/content/drive/My Drive/dataset_Similarity_Prediction/original_training_set/images_2D/image_molecule_072b.png']\n",
            " ['/content/drive/My Drive/dataset_Similarity_Prediction/original_training_set/images_2D/image_molecule_073a.png'\n",
            "  '/content/drive/My Drive/dataset_Similarity_Prediction/original_training_set/images_2D/image_molecule_073b.png']\n",
            " ['/content/drive/My Drive/dataset_Similarity_Prediction/original_training_set/images_2D/image_molecule_074a.png'\n",
            "  '/content/drive/My Drive/dataset_Similarity_Prediction/original_training_set/images_2D/image_molecule_074b.png']\n",
            " ['/content/drive/My Drive/dataset_Similarity_Prediction/original_training_set/images_2D/image_molecule_075a.png'\n",
            "  '/content/drive/My Drive/dataset_Similarity_Prediction/original_training_set/images_2D/image_molecule_075b.png']\n",
            " ['/content/drive/My Drive/dataset_Similarity_Prediction/original_training_set/images_2D/image_molecule_076a.png'\n",
            "  '/content/drive/My Drive/dataset_Similarity_Prediction/original_training_set/images_2D/image_molecule_076b.png']\n",
            " ['/content/drive/My Drive/dataset_Similarity_Prediction/original_training_set/images_2D/image_molecule_077a.png'\n",
            "  '/content/drive/My Drive/dataset_Similarity_Prediction/original_training_set/images_2D/image_molecule_077b.png']\n",
            " ['/content/drive/My Drive/dataset_Similarity_Prediction/original_training_set/images_2D/image_molecule_078a.png'\n",
            "  '/content/drive/My Drive/dataset_Similarity_Prediction/original_training_set/images_2D/image_molecule_078b.png']\n",
            " ['/content/drive/My Drive/dataset_Similarity_Prediction/original_training_set/images_2D/image_molecule_079a.png'\n",
            "  '/content/drive/My Drive/dataset_Similarity_Prediction/original_training_set/images_2D/image_molecule_079b.png']\n",
            " ['/content/drive/My Drive/dataset_Similarity_Prediction/original_training_set/images_2D/image_molecule_080a.png'\n",
            "  '/content/drive/My Drive/dataset_Similarity_Prediction/original_training_set/images_2D/image_molecule_080b.png']\n",
            " ['/content/drive/My Drive/dataset_Similarity_Prediction/original_training_set/images_2D/image_molecule_081a.png'\n",
            "  '/content/drive/My Drive/dataset_Similarity_Prediction/original_training_set/images_2D/image_molecule_081b.png']\n",
            " ['/content/drive/My Drive/dataset_Similarity_Prediction/original_training_set/images_2D/image_molecule_082a.png'\n",
            "  '/content/drive/My Drive/dataset_Similarity_Prediction/original_training_set/images_2D/image_molecule_082b.png']\n",
            " ['/content/drive/My Drive/dataset_Similarity_Prediction/original_training_set/images_2D/image_molecule_083a.png'\n",
            "  '/content/drive/My Drive/dataset_Similarity_Prediction/original_training_set/images_2D/image_molecule_083b.png']\n",
            " ['/content/drive/My Drive/dataset_Similarity_Prediction/original_training_set/images_2D/image_molecule_084a.png'\n",
            "  '/content/drive/My Drive/dataset_Similarity_Prediction/original_training_set/images_2D/image_molecule_084b.png']\n",
            " ['/content/drive/My Drive/dataset_Similarity_Prediction/original_training_set/images_2D/image_molecule_085a.png'\n",
            "  '/content/drive/My Drive/dataset_Similarity_Prediction/original_training_set/images_2D/image_molecule_085b.png']\n",
            " ['/content/drive/My Drive/dataset_Similarity_Prediction/original_training_set/images_2D/image_molecule_086a.png'\n",
            "  '/content/drive/My Drive/dataset_Similarity_Prediction/original_training_set/images_2D/image_molecule_086b.png']\n",
            " ['/content/drive/My Drive/dataset_Similarity_Prediction/original_training_set/images_2D/image_molecule_087a.png'\n",
            "  '/content/drive/My Drive/dataset_Similarity_Prediction/original_training_set/images_2D/image_molecule_087b.png']\n",
            " ['/content/drive/My Drive/dataset_Similarity_Prediction/original_training_set/images_2D/image_molecule_088a.png'\n",
            "  '/content/drive/My Drive/dataset_Similarity_Prediction/original_training_set/images_2D/image_molecule_088b.png']\n",
            " ['/content/drive/My Drive/dataset_Similarity_Prediction/original_training_set/images_2D/image_molecule_089a.png'\n",
            "  '/content/drive/My Drive/dataset_Similarity_Prediction/original_training_set/images_2D/image_molecule_089b.png']\n",
            " ['/content/drive/My Drive/dataset_Similarity_Prediction/original_training_set/images_2D/image_molecule_090a.png'\n",
            "  '/content/drive/My Drive/dataset_Similarity_Prediction/original_training_set/images_2D/image_molecule_090b.png']\n",
            " ['/content/drive/My Drive/dataset_Similarity_Prediction/original_training_set/images_2D/image_molecule_091a.png'\n",
            "  '/content/drive/My Drive/dataset_Similarity_Prediction/original_training_set/images_2D/image_molecule_091b.png']\n",
            " ['/content/drive/My Drive/dataset_Similarity_Prediction/original_training_set/images_2D/image_molecule_092a.png'\n",
            "  '/content/drive/My Drive/dataset_Similarity_Prediction/original_training_set/images_2D/image_molecule_092b.png']\n",
            " ['/content/drive/My Drive/dataset_Similarity_Prediction/original_training_set/images_2D/image_molecule_093a.png'\n",
            "  '/content/drive/My Drive/dataset_Similarity_Prediction/original_training_set/images_2D/image_molecule_093b.png']\n",
            " ['/content/drive/My Drive/dataset_Similarity_Prediction/original_training_set/images_2D/image_molecule_094a.png'\n",
            "  '/content/drive/My Drive/dataset_Similarity_Prediction/original_training_set/images_2D/image_molecule_094b.png']\n",
            " ['/content/drive/My Drive/dataset_Similarity_Prediction/original_training_set/images_2D/image_molecule_095a.png'\n",
            "  '/content/drive/My Drive/dataset_Similarity_Prediction/original_training_set/images_2D/image_molecule_095b.png']\n",
            " ['/content/drive/My Drive/dataset_Similarity_Prediction/original_training_set/images_2D/image_molecule_096a.png'\n",
            "  '/content/drive/My Drive/dataset_Similarity_Prediction/original_training_set/images_2D/image_molecule_096b.png']\n",
            " ['/content/drive/My Drive/dataset_Similarity_Prediction/original_training_set/images_2D/image_molecule_097a.png'\n",
            "  '/content/drive/My Drive/dataset_Similarity_Prediction/original_training_set/images_2D/image_molecule_097b.png']\n",
            " ['/content/drive/My Drive/dataset_Similarity_Prediction/original_training_set/images_2D/image_molecule_098a.png'\n",
            "  '/content/drive/My Drive/dataset_Similarity_Prediction/original_training_set/images_2D/image_molecule_098b.png']\n",
            " ['/content/drive/My Drive/dataset_Similarity_Prediction/original_training_set/images_2D/image_molecule_099a.png'\n",
            "  '/content/drive/My Drive/dataset_Similarity_Prediction/original_training_set/images_2D/image_molecule_099b.png']\n",
            " ['/content/drive/My Drive/dataset_Similarity_Prediction/original_training_set/images_2D/image_molecule_100a.png'\n",
            "  '/content/drive/My Drive/dataset_Similarity_Prediction/original_training_set/images_2D/image_molecule_100b.png']]\n"
          ]
        }
      ]
    },
    {
      "cell_type": "code",
      "source": [
        "# Assuming the data is already loaded and processed\n",
        "# Ensure image_pairs and frac_similar_values are properly aligned\n",
        "\n",
        "# Split the data into train and validation sets\n",
        "from sklearn.model_selection import train_test_split\n",
        "\n",
        "# Splitting image pairs and similarity scores into train and validation sets\n",
        "train_image_pairs, val_image_pairs, train_similar_values, val_similar_values = train_test_split(image_pairs, frac_similar_values, test_size=0.2, random_state=42)\n",
        "\n",
        "# Define the model architecture\n",
        "# ... (same as your initial model definition)\n",
        "train_image_pairs = train_image_pairs.reshape(-1, 2, img_width, img_height, img_channels)\n",
        "val_image_pairs = val_image_pairs.reshape(-1, 2, img_width, img_height, img_channels)\n",
        "# Create the model\n",
        "model = Model(inputs=[input_1, input_2, frac_similar_input], outputs=output)\n",
        "\n",
        "# Compile the model\n",
        "model.compile(optimizer='adam', loss='binary_crossentropy', metrics=['accuracy'])\n",
        "\n",
        "# Train the model using train_image_pairs and train_similar_values\n",
        "model.fit([train_image_pairs[:, 0], train_image_pairs[:, 1], train_similar_values],\n",
        "          train_similar_values,  # Assuming similarity as the target\n",
        "          epochs=10, batch_size=32, validation_data=([val_image_pairs[:, 0], val_image_pairs[:, 1], val_similar_values], val_similar_values))\n"
      ],
      "metadata": {
        "colab": {
          "base_uri": "https://localhost:8080/",
          "height": 253
        },
        "id": "135wfjLudel5",
        "outputId": "417e59a9-5aa9-4dcc-c3f3-9694ea0ea8fc"
      },
      "execution_count": 26,
      "outputs": [
        {
          "output_type": "error",
          "ename": "ValueError",
          "evalue": "cannot reshape array of size 160 into shape (2,64,64,3)",
          "traceback": [
            "\u001b[0;31m---------------------------------------------------------------------------\u001b[0m",
            "\u001b[0;31mValueError\u001b[0m                                Traceback (most recent call last)",
            "\u001b[0;32m<ipython-input-26-accec72f8e49>\u001b[0m in \u001b[0;36m<cell line: 12>\u001b[0;34m()\u001b[0m\n\u001b[1;32m     10\u001b[0m \u001b[0;31m# Define the model architecture\u001b[0m\u001b[0;34m\u001b[0m\u001b[0;34m\u001b[0m\u001b[0m\n\u001b[1;32m     11\u001b[0m \u001b[0;31m# ... (same as your initial model definition)\u001b[0m\u001b[0;34m\u001b[0m\u001b[0;34m\u001b[0m\u001b[0m\n\u001b[0;32m---> 12\u001b[0;31m \u001b[0mtrain_image_pairs\u001b[0m \u001b[0;34m=\u001b[0m \u001b[0mtrain_image_pairs\u001b[0m\u001b[0;34m.\u001b[0m\u001b[0mreshape\u001b[0m\u001b[0;34m(\u001b[0m\u001b[0;34m-\u001b[0m\u001b[0;36m1\u001b[0m\u001b[0;34m,\u001b[0m \u001b[0;36m2\u001b[0m\u001b[0;34m,\u001b[0m \u001b[0mimg_width\u001b[0m\u001b[0;34m,\u001b[0m \u001b[0mimg_height\u001b[0m\u001b[0;34m,\u001b[0m \u001b[0mimg_channels\u001b[0m\u001b[0;34m)\u001b[0m\u001b[0;34m\u001b[0m\u001b[0;34m\u001b[0m\u001b[0m\n\u001b[0m\u001b[1;32m     13\u001b[0m \u001b[0mval_image_pairs\u001b[0m \u001b[0;34m=\u001b[0m \u001b[0mval_image_pairs\u001b[0m\u001b[0;34m.\u001b[0m\u001b[0mreshape\u001b[0m\u001b[0;34m(\u001b[0m\u001b[0;34m-\u001b[0m\u001b[0;36m1\u001b[0m\u001b[0;34m,\u001b[0m \u001b[0;36m2\u001b[0m\u001b[0;34m,\u001b[0m \u001b[0mimg_width\u001b[0m\u001b[0;34m,\u001b[0m \u001b[0mimg_height\u001b[0m\u001b[0;34m,\u001b[0m \u001b[0mimg_channels\u001b[0m\u001b[0;34m)\u001b[0m\u001b[0;34m\u001b[0m\u001b[0;34m\u001b[0m\u001b[0m\n\u001b[1;32m     14\u001b[0m \u001b[0;31m# Create the model\u001b[0m\u001b[0;34m\u001b[0m\u001b[0;34m\u001b[0m\u001b[0m\n",
            "\u001b[0;31mValueError\u001b[0m: cannot reshape array of size 160 into shape (2,64,64,3)"
          ]
        }
      ]
    },
    {
      "cell_type": "code",
      "source": [
        "img_width, img_height, img_channels = 64, 64, 3  # Update with your image dimensions\n",
        "\n",
        "# Define inputs for image pairs\n",
        "input_1 = Input(shape=(img_width, img_height, img_channels))\n",
        "input_2 = Input(shape=(img_width, img_height, img_channels))\n",
        "\n",
        "# CNN for image processing\n",
        "convolutional_layer = Conv2D(32, (3, 3), activation='relu')\n",
        "flatten_layer = Flatten()\n",
        "\n",
        "# Process first image\n",
        "x1 = convolutional_layer(input_1)\n",
        "x1 = flatten_layer(x1)\n",
        "\n",
        "# Process second image\n",
        "x2 = convolutional_layer(input_2)\n",
        "x2 = flatten_layer(x2)\n",
        "\n",
        "# Concatenate processed image representations\n",
        "combined = Concatenate()([x1, x2])\n",
        "\n",
        "# Merge with frac_similar input\n",
        "frac_similar_input = Input(shape=(1,))\n",
        "combined_with_frac_similar = Concatenate()([combined, frac_similar_input])\n",
        "\n",
        "# Output layer\n",
        "output = Dense(1, activation='sigmoid')(combined_with_frac_similar)  # Sigmoid for similarity prediction\n",
        "\n",
        "# Create the model\n",
        "model = Model(inputs=[input_1, input_2, frac_similar_input], outputs=output)\n",
        "\n",
        "# Compile the model\n",
        "model.compile(optimizer='adam', loss='binary_crossentropy', metrics=['accuracy'])"
      ],
      "metadata": {
        "id": "XA0HkLfUN7pu"
      },
      "execution_count": 17,
      "outputs": []
    },
    {
      "cell_type": "code",
      "source": [
        "# Train the model\n",
        "model.fit([image_pairs[:, 0], image_pairs[:, 1], frac_similar_values],\n",
        "          frac_similar_values,  # Assuming similarity as the target\n",
        "          epochs=10, batch_size=32, validation_split=0.2)\n"
      ],
      "metadata": {
        "colab": {
          "base_uri": "https://localhost:8080/",
          "height": 235
        },
        "id": "xcjkcRmOOFSh",
        "outputId": "5c160e51-ce7b-41ef-fa46-72d13d40f4e2"
      },
      "execution_count": 18,
      "outputs": [
        {
          "output_type": "error",
          "ename": "IndexError",
          "evalue": "too many indices for array: array is 1-dimensional, but 2 were indexed",
          "traceback": [
            "\u001b[0;31m---------------------------------------------------------------------------\u001b[0m",
            "\u001b[0;31mIndexError\u001b[0m                                Traceback (most recent call last)",
            "\u001b[0;32m<ipython-input-18-9e2eabb281d5>\u001b[0m in \u001b[0;36m<cell line: 2>\u001b[0;34m()\u001b[0m\n\u001b[1;32m      1\u001b[0m \u001b[0;31m# Train the model\u001b[0m\u001b[0;34m\u001b[0m\u001b[0;34m\u001b[0m\u001b[0m\n\u001b[0;32m----> 2\u001b[0;31m model.fit([image_pairs[:, 0], image_pairs[:, 1], frac_similar_values],\n\u001b[0m\u001b[1;32m      3\u001b[0m           \u001b[0mfrac_similar_values\u001b[0m\u001b[0;34m,\u001b[0m  \u001b[0;31m# Assuming similarity as the target\u001b[0m\u001b[0;34m\u001b[0m\u001b[0;34m\u001b[0m\u001b[0m\n\u001b[1;32m      4\u001b[0m           epochs=10, batch_size=32, validation_split=0.2)\n",
            "\u001b[0;31mIndexError\u001b[0m: too many indices for array: array is 1-dimensional, but 2 were indexed"
          ]
        }
      ]
    }
  ]
}